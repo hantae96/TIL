{
 "cells": [
  {
   "cell_type": "code",
   "execution_count": 5,
   "metadata": {},
   "outputs": [
    {
     "data": {
      "text/plain": [
       "<generator object <genexpr> at 0x00000267D67A9040>"
      ]
     },
     "execution_count": 5,
     "metadata": {},
     "output_type": "execute_result"
    }
   ],
   "source": [
    "a= list()\n",
    "\n",
    "A =(print(i) for i in range(4))\n",
    "\n",
    "A"
   ]
  },
  {
   "cell_type": "code",
   "execution_count": 19,
   "metadata": {},
   "outputs": [
    {
     "name": "stdout",
     "output_type": "stream",
     "text": [
      "[-1, -1, 2, '*', -1, 0, 1, '*']\n"
     ]
    }
   ],
   "source": [
    "# 배열을 받아 합으로 0을 만들 수 있는 3개의 엘리멘트를 출력하라.\n",
    "nums = [-1,0,1,2,-1,-4]\n",
    "nums.sort()\n",
    "\n",
    "def three_sum(nums):\n",
    "    tmp = 0\n",
    "    lst = []\n",
    "    for i in range(len(nums)):\n",
    "        if i>0 and nums[i] == nums[i-1]:\n",
    "            continue\n",
    "        for j in range(i+1,len(nums)):\n",
    "            for k in range(j+1,len(nums)):\n",
    "                if nums[i] + nums[j] +nums[k] == 0:\n",
    "                    lst.append(nums[i])\n",
    "                    lst.append(nums[j])\n",
    "                    lst.append(nums[k])\n",
    "                    lst.append(\"*\")\n",
    "    \n",
    "    return lst\n",
    "                    \n",
    "\n",
    "A=three_sum(nums)\n",
    "\n",
    "print(A)                   \n",
    "                    "
   ]
  },
  {
   "cell_type": "code",
   "execution_count": 20,
   "metadata": {},
   "outputs": [
    {
     "name": "stdout",
     "output_type": "stream",
     "text": [
      "1\n",
      "3\n",
      "5\n",
      "7\n",
      "9\n",
      "끝\n"
     ]
    }
   ],
   "source": [
    "for i in range(10):\n",
    "    if i % 2 == 0:\n",
    "        continue\n",
    "        print(i)\n",
    "    print(i)\n",
    "print(\"끝\")"
   ]
  },
  {
   "cell_type": "code",
   "execution_count": 5,
   "metadata": {},
   "outputs": [
    {
     "data": {
      "text/plain": [
       "[-1, -1, 2, -1, 0, 1]"
      ]
     },
     "execution_count": 5,
     "metadata": {},
     "output_type": "execute_result"
    }
   ],
   "source": [
    "nums = [-1,0,1,2,-1,-4]\n",
    "\n",
    "def threeSum(nums):\n",
    "    results = []\n",
    "    nums.sort()\n",
    "    \n",
    "    for i in range(len(nums)-2):\n",
    "        if i > 0 and nums[i] == nums[i-1]:\n",
    "            continue\n",
    "        for j in range(i+1,len(nums)-1):\n",
    "            if j > i+1 and nums[j] == nums[j-1]:\n",
    "                continue\n",
    "            for k in range(j+1,len(nums)):\n",
    "                if k > j+1 and nums[k] == nums[k-1]:\n",
    "                    continue\n",
    "                if nums[i] + nums[j] + nums[k] == 0:\n",
    "                    # 리스트에 복수 개 입력시 append보다 extend\n",
    "                    results.extend([nums[i], nums[j], nums[k]])\n",
    "                \n",
    "    return results\n",
    "\n",
    "threeSum(nums)"
   ]
  },
  {
   "cell_type": "code",
   "execution_count": null,
   "metadata": {},
   "outputs": [],
   "source": [
    "def threeSum(nums):\n",
    "    results = []\n",
    "    nums.sort()\n",
    "    \n",
    "    for i in range(len(nums)-2):\n",
    "        if i>0 and nums[i] == nums[i-1]:\n",
    "            continue\n",
    "        \n",
    "        left,right = i+1, len(nums)-1\n",
    "        \n",
    "        while left < right:\n",
    "            sum = nums[i] + nums[left] + nums[right]\n",
    "            if sum < 0:\n",
    "                left +=1\n",
    "            elif sum > 0:\n",
    "                right -=1\n",
    "            else:\n",
    "                # sum = 0인 경우 임으로 스킵처리\n",
    "                results.append(nums[i],nums[left],nums[right])\n",
    "                \n",
    "                # 진행 방향으로 중복 ??\n",
    "                while left < right and nums[left] == nums[left+1]:\n",
    "                    left += 1\n",
    "                \n",
    "                while left < right and nums[right] == nums[right-1]:\n",
    "                    right -= 1\n",
    "                \n",
    "                left +=1\n",
    "                right -= 1\n",
    "                \n",
    "                \n",
    "        return results\n",
    "                \n",
    "                "
   ]
  },
  {
   "cell_type": "code",
   "execution_count": null,
   "metadata": {},
   "outputs": [],
   "source": [
    "import sys\n",
    "from collections import deque\n",
    "\n",
    "n,k = 8,3\n",
    "\n",
    "dq = deque()"
   ]
  },
  {
   "cell_type": "code",
   "execution_count": 7,
   "metadata": {},
   "outputs": [
    {
     "data": {
      "text/plain": [
       "'TrY HeLlO WoRlD'"
      ]
     },
     "execution_count": 7,
     "metadata": {},
     "output_type": "execute_result"
    }
   ],
   "source": [
    "def solution(s):\n",
    "    cnt = 0\n",
    "    answer = []\n",
    "    for i in s:\n",
    "        if i == \" \":\n",
    "            answer+=\" \"\n",
    "            cnt =0\n",
    "        else:\n",
    "            if cnt % 2 == 0:\n",
    "                answer+=(i.upper())\n",
    "                cnt+=1\n",
    "            else:\n",
    "                answer+=(i.lower())\n",
    "                cnt+=1\n",
    "    return \"\".join(answer)\n",
    "\n",
    "s= \"try hello world\"\t\n",
    "solution(s)"
   ]
  },
  {
   "cell_type": "code",
   "execution_count": 9,
   "metadata": {},
   "outputs": [
    {
     "data": {
      "text/plain": [
       "[0, 0, 0, 0, 0, 0, 0, 0, 0, 0, 0, 0]"
      ]
     },
     "execution_count": 9,
     "metadata": {},
     "output_type": "execute_result"
    }
   ],
   "source": [
    "arr = [0 for _ in range(12)]\n",
    "arr"
   ]
  },
  {
   "cell_type": "code",
   "execution_count": 18,
   "metadata": {},
   "outputs": [
    {
     "name": "stdout",
     "output_type": "stream",
     "text": [
      "[0, 0, 0, 0, 0, 0, 0, 0, 0, 0, 0]\n",
      "[0, 0, 1, 0, 1, 0, 1, 0, 1, 0, 0]\n",
      "[0, 0, 1, 1, 1, 0, 1, 0, 1, 1, 0]\n",
      "[0, 0, 1, 1, 1, 0, 1, 0, 1, 1, 0]\n",
      "[0, 0, 1, 1, 1, 1, 1, 0, 1, 1, 0]\n",
      "[0, 0, 1, 1, 1, 1, 1, 0, 1, 1, 0]\n",
      "[0, 0, 1, 1, 1, 1, 1, 1, 1, 1, 0]\n",
      "[0, 0, 1, 1, 1, 1, 1, 1, 1, 1, 0]\n",
      "[0, 0, 1, 1, 1, 1, 1, 1, 1, 1, 0]\n"
     ]
    },
    {
     "data": {
      "text/plain": [
       "[2, 3, 5, 7]"
      ]
     },
     "execution_count": 18,
     "metadata": {},
     "output_type": "execute_result"
    }
   ],
   "source": [
    "def solution(n):\n",
    "    answer = []\n",
    "    arr = [0]*(n+1)\n",
    "    print(arr)\n",
    "    for i in range(2,n):\n",
    "        if arr[i] == 0:\n",
    "            answer.append(i)\n",
    "            for j in range(i,n,i):\n",
    "                arr[j] = 1\n",
    "        print(arr)\n",
    "\n",
    "    return answer\n",
    "\n",
    "solution(10)"
   ]
  },
  {
   "cell_type": "code",
   "execution_count": 22,
   "metadata": {},
   "outputs": [
    {
     "ename": "TypeError",
     "evalue": "'float' object cannot be interpreted as an integer",
     "output_type": "error",
     "traceback": [
      "\u001b[1;31m---------------------------------------------------------------------------\u001b[0m",
      "\u001b[1;31mTypeError\u001b[0m                                 Traceback (most recent call last)",
      "\u001b[1;32m<ipython-input-22-f133fde18986>\u001b[0m in \u001b[0;36m<module>\u001b[1;34m\u001b[0m\n\u001b[0;32m      9\u001b[0m     \u001b[1;32mreturn\u001b[0m \u001b[0manswer\u001b[0m\u001b[1;33m+\u001b[0m\u001b[0mn\u001b[0m\u001b[1;33m\u001b[0m\u001b[1;33m\u001b[0m\u001b[0m\n\u001b[0;32m     10\u001b[0m \u001b[1;33m\u001b[0m\u001b[0m\n\u001b[1;32m---> 11\u001b[1;33m \u001b[0msolution\u001b[0m\u001b[1;33m(\u001b[0m\u001b[1;36m12\u001b[0m\u001b[1;33m)\u001b[0m\u001b[1;33m\u001b[0m\u001b[1;33m\u001b[0m\u001b[0m\n\u001b[0m",
      "\u001b[1;32m<ipython-input-22-f133fde18986>\u001b[0m in \u001b[0;36msolution\u001b[1;34m(n)\u001b[0m\n\u001b[0;32m      2\u001b[0m     \u001b[0manswer\u001b[0m \u001b[1;33m=\u001b[0m \u001b[1;36m0\u001b[0m\u001b[1;33m\u001b[0m\u001b[1;33m\u001b[0m\u001b[0m\n\u001b[0;32m      3\u001b[0m \u001b[1;33m\u001b[0m\u001b[0m\n\u001b[1;32m----> 4\u001b[1;33m     \u001b[1;32mfor\u001b[0m \u001b[0mi\u001b[0m \u001b[1;32min\u001b[0m \u001b[0mrange\u001b[0m\u001b[1;33m(\u001b[0m\u001b[1;36m1\u001b[0m\u001b[1;33m,\u001b[0m\u001b[0mn\u001b[0m\u001b[1;33m**\u001b[0m\u001b[1;36m0.5\u001b[0m \u001b[1;33m+\u001b[0m\u001b[1;36m1\u001b[0m\u001b[1;33m)\u001b[0m\u001b[1;33m:\u001b[0m\u001b[1;33m\u001b[0m\u001b[1;33m\u001b[0m\u001b[0m\n\u001b[0m\u001b[0;32m      5\u001b[0m         \u001b[1;32mif\u001b[0m \u001b[0mn\u001b[0m \u001b[1;33m%\u001b[0m \u001b[0mi\u001b[0m \u001b[1;33m==\u001b[0m \u001b[1;36m0\u001b[0m\u001b[1;33m:\u001b[0m\u001b[1;33m\u001b[0m\u001b[1;33m\u001b[0m\u001b[0m\n\u001b[0;32m      6\u001b[0m             \u001b[0manswer\u001b[0m\u001b[1;33m+=\u001b[0m\u001b[0mi\u001b[0m\u001b[1;33m\u001b[0m\u001b[1;33m\u001b[0m\u001b[0m\n",
      "\u001b[1;31mTypeError\u001b[0m: 'float' object cannot be interpreted as an integer"
     ]
    }
   ],
   "source": [
    "def solution(n):\n",
    "    answer = 0\n",
    "    \n",
    "    for i in range(1,n**0.5 +1):\n",
    "        if n % i == 0:\n",
    "            answer+=i\n",
    "        \n",
    "    \n",
    "    return answer+n\n",
    "\n",
    "solution(12)"
   ]
  },
  {
   "cell_type": "code",
   "execution_count": 38,
   "metadata": {},
   "outputs": [
    {
     "name": "stdout",
     "output_type": "stream",
     "text": [
      "26\n"
     ]
    }
   ],
   "source": [
    "lst_upper = [i for i in \"ABCDEFGHIJKLMNOPQRSTUVWXYZ\"]\n",
    "\n",
    "print(len(lst_upper))"
   ]
  },
  {
   "cell_type": "code",
   "execution_count": 43,
   "metadata": {},
   "outputs": [
    {
     "data": {
      "text/plain": [
       "'e F d'"
      ]
     },
     "execution_count": 43,
     "metadata": {},
     "output_type": "execute_result"
    }
   ],
   "source": [
    "def solution(s,n):\n",
    "    lst_upper = [i for i in \"ABCDEFGHIJKLMNOPQRSTUVWXYZ\"]\n",
    "    lst_lower = [i for i in \"abcdefghijklmnopqrstuvwxyz\"]\n",
    "    \n",
    "    answer = []\n",
    "    \n",
    "    for i in s:\n",
    "        if i.isupper():\n",
    "            for j in range(len(lst_upper)):\n",
    "                if i == lst_upper[j]:\n",
    "                    answer.append(lst_upper[(j+n)%26])\n",
    "        \n",
    "        elif i.islower():\n",
    "            for j in range(len(lst_lower)):\n",
    "                if i == lst_lower[j]:\n",
    "                    answer.append(lst_lower[(j+n)%26])\n",
    "                    \n",
    "        elif i == \" \":\n",
    "            answer.append(\" \")\n",
    "    \n",
    "    answer = \"\".join(answer)                \n",
    "        \n",
    "    return answer\n",
    "\n",
    "solution(\"a B z\",4)"
   ]
  },
  {
   "cell_type": "code",
   "execution_count": 48,
   "metadata": {},
   "outputs": [
    {
     "name": "stdout",
     "output_type": "stream",
     "text": [
      "수박수박수박\n"
     ]
    },
    {
     "data": {
      "text/plain": [
       "'수박수'"
      ]
     },
     "execution_count": 48,
     "metadata": {},
     "output_type": "execute_result"
    }
   ],
   "source": [
    "def water_melon(n):\n",
    "    s = \"수박\" * n\n",
    "    print(s)\n",
    "    return s[:n]\n",
    "\n",
    "water_melon(3)"
   ]
  },
  {
   "cell_type": "code",
   "execution_count": 60,
   "metadata": {},
   "outputs": [
    {
     "data": {
      "text/plain": [
       "array([1, 3], dtype=int64)"
      ]
     },
     "execution_count": 60,
     "metadata": {},
     "output_type": "execute_result"
    }
   ],
   "source": [
    "aa = [123, 421, 212, 11, 24, 102, 29, 92, 10]\n",
    "\n",
    "aa.index(10)\n",
    "\n",
    "b = ['hi', 'hello', 'bye', 'hello', 'hi']\n",
    "\n",
    "import numpy\n",
    "\n",
    "b = numpy.array(b)\n",
    "\n",
    "numpy.where(b == \"hello\")[0]"
   ]
  },
  {
   "cell_type": "code",
   "execution_count": 78,
   "metadata": {},
   "outputs": [
    {
     "data": {
      "text/plain": [
       "True"
      ]
     },
     "execution_count": 78,
     "metadata": {},
     "output_type": "execute_result"
    }
   ],
   "source": [
    "a = \"0\"\n",
    "a.isdigit()"
   ]
  },
  {
   "cell_type": "code",
   "execution_count": 96,
   "metadata": {},
   "outputs": [
    {
     "ename": "IndexError",
     "evalue": "list index out of range",
     "output_type": "error",
     "traceback": [
      "\u001b[1;31m---------------------------------------------------------------------------\u001b[0m",
      "\u001b[1;31mIndexError\u001b[0m                                Traceback (most recent call last)",
      "\u001b[1;32m<ipython-input-96-5eca7601e160>\u001b[0m in \u001b[0;36m<module>\u001b[1;34m\u001b[0m\n\u001b[0;32m     27\u001b[0m \u001b[1;33m\u001b[0m\u001b[0m\n\u001b[0;32m     28\u001b[0m \u001b[0mtest\u001b[0m \u001b[1;33m=\u001b[0m\u001b[1;34m\"1D2S0T\"\u001b[0m\u001b[1;33m\u001b[0m\u001b[1;33m\u001b[0m\u001b[0m\n\u001b[1;32m---> 29\u001b[1;33m \u001b[0msolution\u001b[0m\u001b[1;33m(\u001b[0m\u001b[0mtest\u001b[0m\u001b[1;33m)\u001b[0m\u001b[1;33m\u001b[0m\u001b[1;33m\u001b[0m\u001b[0m\n\u001b[0m",
      "\u001b[1;32m<ipython-input-96-5eca7601e160>\u001b[0m in \u001b[0;36msolution\u001b[1;34m(dartResult)\u001b[0m\n\u001b[0;32m      5\u001b[0m     \u001b[1;32mfor\u001b[0m \u001b[0mi\u001b[0m \u001b[1;32min\u001b[0m \u001b[0mrange\u001b[0m\u001b[1;33m(\u001b[0m\u001b[0mlen\u001b[0m\u001b[1;33m(\u001b[0m\u001b[0mdartResult\u001b[0m\u001b[1;33m)\u001b[0m\u001b[1;33m)\u001b[0m\u001b[1;33m:\u001b[0m\u001b[1;33m\u001b[0m\u001b[1;33m\u001b[0m\u001b[0m\n\u001b[0;32m      6\u001b[0m         \u001b[1;32mif\u001b[0m \u001b[0mdartResult\u001b[0m\u001b[1;33m[\u001b[0m\u001b[0mi\u001b[0m\u001b[1;33m]\u001b[0m\u001b[1;33m.\u001b[0m\u001b[0misdigit\u001b[0m\u001b[1;33m(\u001b[0m\u001b[1;33m)\u001b[0m\u001b[1;33m:\u001b[0m\u001b[1;33m\u001b[0m\u001b[1;33m\u001b[0m\u001b[0m\n\u001b[1;32m----> 7\u001b[1;33m                 \u001b[1;32mif\u001b[0m \u001b[0mstr\u001b[0m\u001b[1;33m(\u001b[0m\u001b[0mstack\u001b[0m\u001b[1;33m[\u001b[0m\u001b[1;33m-\u001b[0m\u001b[1;36m1\u001b[0m\u001b[1;33m]\u001b[0m\u001b[1;33m)\u001b[0m\u001b[1;33m.\u001b[0m\u001b[0misdigit\u001b[0m\u001b[1;33m(\u001b[0m\u001b[1;33m)\u001b[0m\u001b[1;33m:\u001b[0m\u001b[1;33m\u001b[0m\u001b[1;33m\u001b[0m\u001b[0m\n\u001b[0m\u001b[0;32m      8\u001b[0m                     \u001b[0mstack\u001b[0m\u001b[1;33m.\u001b[0m\u001b[0mappend\u001b[0m\u001b[1;33m(\u001b[0m\u001b[0mstack\u001b[0m\u001b[1;33m.\u001b[0m\u001b[0mpop\u001b[0m\u001b[1;33m(\u001b[0m\u001b[1;33m)\u001b[0m\u001b[1;33m*\u001b[0m\u001b[1;36m10\u001b[0m\u001b[1;33m)\u001b[0m\u001b[1;33m\u001b[0m\u001b[1;33m\u001b[0m\u001b[0m\n\u001b[0;32m      9\u001b[0m                 \u001b[1;32melse\u001b[0m\u001b[1;33m:\u001b[0m\u001b[1;33m\u001b[0m\u001b[1;33m\u001b[0m\u001b[0m\n",
      "\u001b[1;31mIndexError\u001b[0m: list index out of range"
     ]
    }
   ],
   "source": [
    "def solution(dartResult):\n",
    "    stack = []\n",
    "    res = 0\n",
    "    \n",
    "    for i in range(len(dartResult)):\n",
    "        if dartResult[i].isdigit():\n",
    "                if str(stack[-1]).isdigit():\n",
    "                    stack.append(stack.pop()*10)\n",
    "                else:\n",
    "                    pass\n",
    "                stack.append(int(dartResult[i]))\n",
    "        elif dartResult[i].isalpha():\n",
    "            if dartResult[i] == \"S\":\n",
    "                stack.append(int(stack.pop())**1)\n",
    "            elif dartResult[i] == \"D\":\n",
    "                stack.append(int(stack.pop())**2)\n",
    "            elif dartResult[i] == \"T\":\n",
    "                stack.append(int(stack.pop())**3)\n",
    "        else:\n",
    "            if dartResult[i] == \"*\":\n",
    "                stack=[int(i)*2 for i in stack]\n",
    "            elif dartResult[i] ==\"#\":\n",
    "                stack.append(int(stack.pop())*(-1))\n",
    "                \n",
    "    print(stack)  \n",
    "    return sum(stack)\n",
    "\n",
    "test =\"1D2S0T\"\n",
    "solution(test)"
   ]
  },
  {
   "cell_type": "code",
   "execution_count": 111,
   "metadata": {},
   "outputs": [
    {
     "name": "stdout",
     "output_type": "stream",
     "text": [
      "[0, 54, 6]\n"
     ]
    },
    {
     "data": {
      "text/plain": [
       "60"
      ]
     },
     "execution_count": 111,
     "metadata": {},
     "output_type": "execute_result"
    }
   ],
   "source": [
    "def solution(dartResult):\n",
    "    stack = []\n",
    "    res = 0\n",
    "    tmp = []\n",
    "    \n",
    "    dartResult = dartResult.replace(\"10\",\"A\")\n",
    "    \n",
    "    for i in range(len(dartResult)):\n",
    "        if dartResult[i].isdigit() or i ==\"A\":\n",
    "            stack.append(10 if i =='A' else int(i))\n",
    "            \n",
    "        elif dartResult[i].isalpha():\n",
    "            if dartResult[i] == \"S\":\n",
    "                stack.append(int(stack.pop())**1)\n",
    "            elif dartResult[i] == \"D\":\n",
    "                stack.append(int(stack.pop())**2)\n",
    "            elif dartResult[i] == \"T\":\n",
    "                stack.append(int(stack.pop())**3)\n",
    "        else:\n",
    "            if dartResult[i] == \"*\":\n",
    "                if len(stack)<2:\n",
    "                    stack[-1] = stack[-1]*2\n",
    "                else:\n",
    "                    stack[-1] = stack[-1]*2\n",
    "                    stack[-2] = stack[-2]*2\n",
    "            elif dartResult[i] ==\"#\":\n",
    "                stack.append(int(stack.pop())*(-1))\n",
    "        \n",
    "    print(stack)  \n",
    "    return sum(stack)\n",
    "\n",
    "test =\"1S*2T*3S\"\n",
    "solution(test)                \n",
    "        "
   ]
  },
  {
   "cell_type": "code",
   "execution_count": null,
   "metadata": {},
   "outputs": [],
   "source": [
    "# 딕셔너리 를 활용하자 s일때 1, d일때 2, t일때 3\n",
    "# 인덱스 값이 \"문자\"일때 딕셔너리를 활용해서 푸는 방법도 있다.\n",
    "# 컴퓨터는 두자리수 이상 넘어가면 연산이 어렵다.. 16진법처럼 10 == A로 변환해서 접근하자\n",
    "\n",
    "def solution(dartResult):\n",
    "    stack = []\n",
    "    dartResult = dartResult.replace(\"10\",\"A\")\n",
    "    bonus = {\"S\":1,\"D\":2,\"T\":3}\n",
    "    \n",
    "    for i in dartResult:\n",
    "        if i.isdigit() or i ==\"A\":\n",
    "            stack.append(10 if i == \"A\" else int(i))\n",
    "        elif i in (\"S\",\"D\",\"T\"):\n",
    "            num = stack.pop()\n",
    "            stack.append(num ** bonus[i])\n",
    "        elif i == \"#\":\n",
    "            stack[-1] *= -1\n",
    "        elif i == \"*\":\n",
    "            num = stack.pop()\n",
    "            if len(stack):\n",
    "                stack[-1] *= 2\n",
    "            stack.append(2*num)\n",
    "            \n",
    "    return sum(stack)"
   ]
  },
  {
   "cell_type": "code",
   "execution_count": 113,
   "metadata": {},
   "outputs": [
    {
     "name": "stdout",
     "output_type": "stream",
     "text": [
      "False\n"
     ]
    }
   ],
   "source": [
    "a,b = 5,10\n",
    "\n",
    "# 참일때 if 조건 else 거짓일때\n",
    "print(\"True\") if a>b else print(\"False\")"
   ]
  },
  {
   "cell_type": "code",
   "execution_count": 114,
   "metadata": {},
   "outputs": [
    {
     "data": {
      "text/plain": [
       "'w'"
      ]
     },
     "execution_count": 114,
     "metadata": {},
     "output_type": "execute_result"
    }
   ],
   "source": [
    "def string_middle(str):\n",
    "    # 함수를 완성하세요\n",
    "\n",
    "    return str[(len(str)-1)//2:len(str)//2+1]\n",
    "\n",
    "\n",
    "string_middle(\"power\")"
   ]
  },
  {
   "cell_type": "code",
   "execution_count": 117,
   "metadata": {},
   "outputs": [
    {
     "ename": "SyntaxError",
     "evalue": "invalid syntax (<ipython-input-117-78e6ad6d0300>, line 4)",
     "output_type": "error",
     "traceback": [
      "\u001b[1;36m  File \u001b[1;32m\"<ipython-input-117-78e6ad6d0300>\"\u001b[1;36m, line \u001b[1;32m4\u001b[0m\n\u001b[1;33m    return x if n%x ==1 else x=x+1\u001b[0m\n\u001b[1;37m                              ^\u001b[0m\n\u001b[1;31mSyntaxError\u001b[0m\u001b[1;31m:\u001b[0m invalid syntax\n"
     ]
    }
   ],
   "source": [
    "def solution(n):\n",
    "    x = 1\n",
    "    while True:\n",
    "        return x if n%x ==1 else x=x+1\n",
    "            \n",
    "solution(10)\n",
    "            "
   ]
  },
  {
   "cell_type": "code",
   "execution_count": 223,
   "metadata": {},
   "outputs": [
    {
     "name": "stdout",
     "output_type": "stream",
     "text": [
      "['01001', '00101', '00111', '01001', '01101']\n",
      "['01101', '01001', '00111', '00101', '01001']T\n",
      "['01111', '00001', '10101', '10001', '00111']\n",
      "['02112', '00102', '10212', '11002', '01212']\n"
     ]
    },
    {
     "data": {
      "text/plain": [
       "['#', '#', '#', '#', '#']"
      ]
     },
     "execution_count": 223,
     "metadata": {},
     "output_type": "execute_result"
    }
   ],
   "source": [
    "def solution(n, arr1, arr2):\n",
    "\n",
    "    arr1 = list(map(str,arr1))\n",
    "    arr2 = list(map(str,arr2))\n",
    "    \n",
    "\n",
    "    binary_lst = []\n",
    "    \n",
    "\n",
    "\n",
    "    for arr in (arr1,arr2):\n",
    "        for i in range(len(arr)):\n",
    "            \n",
    "            j = 0\n",
    "            \n",
    "            arr[i] = int(arr[i])\n",
    "            binary_num=\"\"\n",
    "            while arr[i]>0:\n",
    "                if arr[i]%2==0:\n",
    "                    binary_num = binary_num + \"0\"\n",
    "                    arr[i] = arr[i]//2\n",
    "                else:    \n",
    "                    binary_num += \"1\"\n",
    "                    arr[i] = arr[i]//2\n",
    "            \n",
    "            binary_lst.append(binary_num.zfill(5))\n",
    "    \n",
    "    binary_arr1 = binary_lst[:5]\n",
    "    binary_arr2 = binary_lst[5:]\n",
    "    \n",
    "    print(binary_arr1)\n",
    "    print(binary_arr2)\n",
    "    \n",
    "    res_arr = [str(int(x)+int(y)).zfill(5) for x,y in zip(binary_arr1,binary_arr2)]\n",
    "    \n",
    "    print(res_arr)\n",
    "    \n",
    "    res = []\n",
    "    \n",
    "    for i in res_arr:\n",
    "        if i ==\"0\":\n",
    "            res.append(\" \")\n",
    "        else:\n",
    "            res.append(\"#\")\n",
    "        \n",
    "    return res\n",
    "    \n",
    "arr1 = [9,20,28,18,11]\n",
    "arr2 = [30, 1, 21, 17, 28]\n",
    "\n",
    "solution(6,arr1,arr2)"
   ]
  },
  {
   "cell_type": "code",
   "execution_count": 230,
   "metadata": {},
   "outputs": [
    {
     "data": {
      "text/plain": [
       "[' #####', ' # # #', ' ### #', ' #  ##', ' #####']"
      ]
     },
     "execution_count": 230,
     "metadata": {},
     "output_type": "execute_result"
    }
   ],
   "source": [
    "def solution(n,arr1,arr2):\n",
    "    answer = []\n",
    "    for i,j in zip(arr1,arr2):\n",
    "        arr = str(bin(i|j)[2:])\n",
    "        arr = arr.rjust(n,\"0\")\n",
    "        arr = arr.replace(\"1\",\"#\")\n",
    "        arr = arr.replace(\"0\",\" \")\n",
    "        answer.append(arr)\n",
    "\n",
    "    return answer\n",
    "    \n",
    "arr1 = [9,20,28,18,11]\n",
    "arr2 = [30,1,21,17,28]\n",
    "solution(6,arr1,arr2)\n",
    "    "
   ]
  },
  {
   "cell_type": "code",
   "execution_count": 241,
   "metadata": {},
   "outputs": [
    {
     "name": "stdout",
     "output_type": "stream",
     "text": [
      "0b1\n",
      "0b10\n",
      "0b11\n",
      "0b0\n"
     ]
    }
   ],
   "source": [
    "a = 1\n",
    "b = 2\n",
    "c = 3\n",
    "print(bin(a))\n",
    "print(bin(b))\n",
    "print(bin(c))\n",
    "\n",
    "print(bin(a&b&c))"
   ]
  },
  {
   "cell_type": "code",
   "execution_count": 255,
   "metadata": {},
   "outputs": [
    {
     "name": "stdout",
     "output_type": "stream",
     "text": [
      "[2, 3, 4, 5, 6, 7]\n"
     ]
    },
    {
     "data": {
      "text/plain": [
       "[2, 3, 4, 5, 6, 7]"
      ]
     },
     "execution_count": 255,
     "metadata": {},
     "output_type": "execute_result"
    }
   ],
   "source": [
    "def solution(numbers):\n",
    "    tmp = []\n",
    "    for i in range(len(numbers)):\n",
    "        for j in range(i+1,len(numbers)):\n",
    "            tmp.append(numbers[i]+numbers[j])\n",
    "    tmp=sorted(list(set(tmp)))\n",
    "    \n",
    "    print(tmp)\n",
    "    \n",
    "    return tmp\n",
    "\n",
    "solution([2,1,3,4,1])"
   ]
  },
  {
   "cell_type": "code",
   "execution_count": 267,
   "metadata": {},
   "outputs": [
    {
     "name": "stdout",
     "output_type": "stream",
     "text": [
      "2\n",
      "2\n",
      "3\n",
      "3\n"
     ]
    },
    {
     "data": {
      "text/plain": [
       "4"
      ]
     },
     "execution_count": 267,
     "metadata": {},
     "output_type": "execute_result"
    }
   ],
   "source": [
    "def solution(d, budget):\n",
    "    \n",
    "    cnt = 0\n",
    "    while budget != 0:\n",
    "        if budget < min(d):\n",
    "            return cnt\n",
    "        else:\n",
    "            min_num=d.pop(d.index(min(d)))\n",
    "            print(min_num)\n",
    "            budget -= min_num\n",
    "            cnt+=1\n",
    "            \n",
    "    return cnt\n",
    "        \n",
    "\n",
    "d = [2,2,3,3]\n",
    "budget = 10\n",
    "\n",
    "solution(d,budget)"
   ]
  },
  {
   "cell_type": "code",
   "execution_count": 268,
   "metadata": {},
   "outputs": [
    {
     "name": "stdout",
     "output_type": "stream",
     "text": [
      "[2, 2, 3, 3]\n"
     ]
    },
    {
     "data": {
      "text/plain": [
       "4"
      ]
     },
     "execution_count": 268,
     "metadata": {},
     "output_type": "execute_result"
    }
   ],
   "source": [
    "def solution(d, budget):\n",
    "    d.sort()\n",
    "    print(d)\n",
    "    while budget < sum(d):\n",
    "        d.pop()\n",
    "    return len\n",
    "    \n",
    "\n",
    "d = [2,2,3,3]\n",
    "budget = 10\n",
    "\n",
    "solution(d,budget)"
   ]
  },
  {
   "cell_type": "code",
   "execution_count": 287,
   "metadata": {},
   "outputs": [
    {
     "name": "stdout",
     "output_type": "stream",
     "text": [
      "[0]\n",
      "[0]\n"
     ]
    },
    {
     "data": {
      "text/plain": [
       "0"
      ]
     },
     "execution_count": 287,
     "metadata": {},
     "output_type": "execute_result"
    }
   ],
   "source": [
    "tmp = []\n",
    "\n",
    "def triple(n):\n",
    "    if n < 3:\n",
    "        tmp.append(n)\n",
    "    if n > 3:\n",
    "        triple(n//3)\n",
    "        tmp.append(n%3)\n",
    "    \n",
    "    tri=list(reversed(tmp))\n",
    "    return tri\n",
    "\n",
    "def solution(n):\n",
    "    ans = 0\n",
    "    n = 0\n",
    "    tri=triple(n)\n",
    "    \n",
    "    while tri:\n",
    "        if tri[-1] == 0:\n",
    "            break\n",
    "        else:\n",
    "            num=tri.pop()\n",
    "            ans+=num*(10**n)\n",
    "            n+=1\n",
    "        \n",
    "    return ans\n",
    "\n",
    "solution(45)\n"
   ]
  }
 ],
 "metadata": {
  "interpreter": {
   "hash": "53348c0c110a21a62c08282fa7222d5f6a6e867967d9c653ff076b6d565fa51d"
  },
  "kernelspec": {
   "display_name": "Python 3.9.1 64-bit",
   "language": "python",
   "name": "python3"
  },
  "language_info": {
   "codemirror_mode": {
    "name": "ipython",
    "version": 3
   },
   "file_extension": ".py",
   "mimetype": "text/x-python",
   "name": "python",
   "nbconvert_exporter": "python",
   "pygments_lexer": "ipython3",
   "version": "3.9.1"
  },
  "orig_nbformat": 4
 },
 "nbformat": 4,
 "nbformat_minor": 2
}
