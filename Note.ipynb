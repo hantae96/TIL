{
 "cells": [
  {
   "cell_type": "code",
   "execution_count": 5,
   "metadata": {},
   "outputs": [
    {
     "data": {
      "text/plain": [
       "<generator object <genexpr> at 0x00000267D67A9040>"
      ]
     },
     "execution_count": 5,
     "metadata": {},
     "output_type": "execute_result"
    }
   ],
   "source": [
    "a= list()\n",
    "\n",
    "A =(print(i) for i in range(4))\n",
    "\n",
    "A"
   ]
  },
  {
   "cell_type": "code",
   "execution_count": 19,
   "metadata": {},
   "outputs": [
    {
     "name": "stdout",
     "output_type": "stream",
     "text": [
      "[-1, -1, 2, '*', -1, 0, 1, '*']\n"
     ]
    }
   ],
   "source": [
    "# 배열을 받아 합으로 0을 만들 수 있는 3개의 엘리멘트를 출력하라.\n",
    "nums = [-1,0,1,2,-1,-4]\n",
    "nums.sort()\n",
    "\n",
    "def three_sum(nums):\n",
    "    tmp = 0\n",
    "    lst = []\n",
    "    for i in range(len(nums)):\n",
    "        if i>0 and nums[i] == nums[i-1]:\n",
    "            continue\n",
    "        for j in range(i+1,len(nums)):\n",
    "            for k in range(j+1,len(nums)):\n",
    "                if nums[i] + nums[j] +nums[k] == 0:\n",
    "                    lst.append(nums[i])\n",
    "                    lst.append(nums[j])\n",
    "                    lst.append(nums[k])\n",
    "                    lst.append(\"*\")\n",
    "    \n",
    "    return lst\n",
    "                    \n",
    "\n",
    "A=three_sum(nums)\n",
    "\n",
    "print(A)                   \n",
    "                    "
   ]
  },
  {
   "cell_type": "code",
   "execution_count": 20,
   "metadata": {},
   "outputs": [
    {
     "name": "stdout",
     "output_type": "stream",
     "text": [
      "1\n",
      "3\n",
      "5\n",
      "7\n",
      "9\n",
      "끝\n"
     ]
    }
   ],
   "source": [
    "for i in range(10):\n",
    "    if i % 2 == 0:\n",
    "        continue\n",
    "        print(i)\n",
    "    print(i)\n",
    "print(\"끝\")"
   ]
  },
  {
   "cell_type": "code",
   "execution_count": 5,
   "metadata": {},
   "outputs": [
    {
     "data": {
      "text/plain": [
       "[-1, -1, 2, -1, 0, 1]"
      ]
     },
     "execution_count": 5,
     "metadata": {},
     "output_type": "execute_result"
    }
   ],
   "source": [
    "nums = [-1,0,1,2,-1,-4]\n",
    "\n",
    "def threeSum(nums):\n",
    "    results = []\n",
    "    nums.sort()\n",
    "    \n",
    "    for i in range(len(nums)-2):\n",
    "        if i > 0 and nums[i] == nums[i-1]:\n",
    "            continue\n",
    "        for j in range(i+1,len(nums)-1):\n",
    "            if j > i+1 and nums[j] == nums[j-1]:\n",
    "                continue\n",
    "            for k in range(j+1,len(nums)):\n",
    "                if k > j+1 and nums[k] == nums[k-1]:\n",
    "                    continue\n",
    "                if nums[i] + nums[j] + nums[k] == 0:\n",
    "                    # 리스트에 복수 개 입력시 append보다 extend\n",
    "                    results.extend([nums[i], nums[j], nums[k]])\n",
    "                \n",
    "    return results\n",
    "\n",
    "threeSum(nums)"
   ]
  },
  {
   "cell_type": "code",
   "execution_count": null,
   "metadata": {},
   "outputs": [],
   "source": [
    "def threeSum(nums):\n",
    "    results = []\n",
    "    nums.sort()\n",
    "    \n",
    "    for i in range(len(nums)-2):\n",
    "        if i>0 and nums[i] == nums[i-1]:\n",
    "            continue\n",
    "        \n",
    "        left,right = i+1, len(nums)-1\n",
    "        \n",
    "        while left < right:\n",
    "            sum = nums[i] + nums[left] + nums[right]\n",
    "            if sum < 0:\n",
    "                left +=1\n",
    "            elif sum > 0:\n",
    "                right -=1\n",
    "            else:\n",
    "                # sum = 0인 경우 임으로 스킵처리\n",
    "                results.append(nums[i],nums[left],nums[right])\n",
    "                \n",
    "                # 진행 방향으로 중복 ??\n",
    "                while left < right and nums[left] == nums[left+1]:\n",
    "                    left += 1\n",
    "                \n",
    "                while left < right and nums[right] == nums[right-1]:\n",
    "                    right -= 1\n",
    "                \n",
    "                left +=1\n",
    "                right -= 1\n",
    "                \n",
    "                \n",
    "        return results\n",
    "                \n",
    "                "
   ]
  },
  {
   "cell_type": "code",
   "execution_count": null,
   "metadata": {},
   "outputs": [],
   "source": [
    "import sys\n",
    "from collections import deque\n",
    "\n",
    "n,k = 8,3\n",
    "\n",
    "dq = deque()"
   ]
  },
  {
   "cell_type": "code",
   "execution_count": 7,
   "metadata": {},
   "outputs": [
    {
     "data": {
      "text/plain": [
       "'TrY HeLlO WoRlD'"
      ]
     },
     "execution_count": 7,
     "metadata": {},
     "output_type": "execute_result"
    }
   ],
   "source": [
    "def solution(s):\n",
    "    cnt = 0\n",
    "    answer = []\n",
    "    for i in s:\n",
    "        if i == \" \":\n",
    "            answer+=\" \"\n",
    "            cnt =0\n",
    "        else:\n",
    "            if cnt % 2 == 0:\n",
    "                answer+=(i.upper())\n",
    "                cnt+=1\n",
    "            else:\n",
    "                answer+=(i.lower())\n",
    "                cnt+=1\n",
    "    return \"\".join(answer)\n",
    "\n",
    "s= \"try hello world\"\t\n",
    "solution(s)"
   ]
  },
  {
   "cell_type": "code",
   "execution_count": 9,
   "metadata": {},
   "outputs": [
    {
     "data": {
      "text/plain": [
       "[0, 0, 0, 0, 0, 0, 0, 0, 0, 0, 0, 0]"
      ]
     },
     "execution_count": 9,
     "metadata": {},
     "output_type": "execute_result"
    }
   ],
   "source": [
    "arr = [0 for _ in range(12)]\n",
    "arr"
   ]
  },
  {
   "cell_type": "code",
   "execution_count": 18,
   "metadata": {},
   "outputs": [
    {
     "name": "stdout",
     "output_type": "stream",
     "text": [
      "[0, 0, 0, 0, 0, 0, 0, 0, 0, 0, 0]\n",
      "[0, 0, 1, 0, 1, 0, 1, 0, 1, 0, 0]\n",
      "[0, 0, 1, 1, 1, 0, 1, 0, 1, 1, 0]\n",
      "[0, 0, 1, 1, 1, 0, 1, 0, 1, 1, 0]\n",
      "[0, 0, 1, 1, 1, 1, 1, 0, 1, 1, 0]\n",
      "[0, 0, 1, 1, 1, 1, 1, 0, 1, 1, 0]\n",
      "[0, 0, 1, 1, 1, 1, 1, 1, 1, 1, 0]\n",
      "[0, 0, 1, 1, 1, 1, 1, 1, 1, 1, 0]\n",
      "[0, 0, 1, 1, 1, 1, 1, 1, 1, 1, 0]\n"
     ]
    },
    {
     "data": {
      "text/plain": [
       "[2, 3, 5, 7]"
      ]
     },
     "execution_count": 18,
     "metadata": {},
     "output_type": "execute_result"
    }
   ],
   "source": [
    "def solution(n):\n",
    "    answer = []\n",
    "    arr = [0]*(n+1)\n",
    "    print(arr)\n",
    "    for i in range(2,n):\n",
    "        if arr[i] == 0:\n",
    "            answer.append(i)\n",
    "            for j in range(i,n,i):\n",
    "                arr[j] = 1\n",
    "        print(arr)\n",
    "\n",
    "    return answer\n",
    "\n",
    "solution(10)"
   ]
  },
  {
   "cell_type": "code",
   "execution_count": 22,
   "metadata": {},
   "outputs": [
    {
     "ename": "TypeError",
     "evalue": "'float' object cannot be interpreted as an integer",
     "output_type": "error",
     "traceback": [
      "\u001b[1;31m---------------------------------------------------------------------------\u001b[0m",
      "\u001b[1;31mTypeError\u001b[0m                                 Traceback (most recent call last)",
      "\u001b[1;32m<ipython-input-22-f133fde18986>\u001b[0m in \u001b[0;36m<module>\u001b[1;34m\u001b[0m\n\u001b[0;32m      9\u001b[0m     \u001b[1;32mreturn\u001b[0m \u001b[0manswer\u001b[0m\u001b[1;33m+\u001b[0m\u001b[0mn\u001b[0m\u001b[1;33m\u001b[0m\u001b[1;33m\u001b[0m\u001b[0m\n\u001b[0;32m     10\u001b[0m \u001b[1;33m\u001b[0m\u001b[0m\n\u001b[1;32m---> 11\u001b[1;33m \u001b[0msolution\u001b[0m\u001b[1;33m(\u001b[0m\u001b[1;36m12\u001b[0m\u001b[1;33m)\u001b[0m\u001b[1;33m\u001b[0m\u001b[1;33m\u001b[0m\u001b[0m\n\u001b[0m",
      "\u001b[1;32m<ipython-input-22-f133fde18986>\u001b[0m in \u001b[0;36msolution\u001b[1;34m(n)\u001b[0m\n\u001b[0;32m      2\u001b[0m     \u001b[0manswer\u001b[0m \u001b[1;33m=\u001b[0m \u001b[1;36m0\u001b[0m\u001b[1;33m\u001b[0m\u001b[1;33m\u001b[0m\u001b[0m\n\u001b[0;32m      3\u001b[0m \u001b[1;33m\u001b[0m\u001b[0m\n\u001b[1;32m----> 4\u001b[1;33m     \u001b[1;32mfor\u001b[0m \u001b[0mi\u001b[0m \u001b[1;32min\u001b[0m \u001b[0mrange\u001b[0m\u001b[1;33m(\u001b[0m\u001b[1;36m1\u001b[0m\u001b[1;33m,\u001b[0m\u001b[0mn\u001b[0m\u001b[1;33m**\u001b[0m\u001b[1;36m0.5\u001b[0m \u001b[1;33m+\u001b[0m\u001b[1;36m1\u001b[0m\u001b[1;33m)\u001b[0m\u001b[1;33m:\u001b[0m\u001b[1;33m\u001b[0m\u001b[1;33m\u001b[0m\u001b[0m\n\u001b[0m\u001b[0;32m      5\u001b[0m         \u001b[1;32mif\u001b[0m \u001b[0mn\u001b[0m \u001b[1;33m%\u001b[0m \u001b[0mi\u001b[0m \u001b[1;33m==\u001b[0m \u001b[1;36m0\u001b[0m\u001b[1;33m:\u001b[0m\u001b[1;33m\u001b[0m\u001b[1;33m\u001b[0m\u001b[0m\n\u001b[0;32m      6\u001b[0m             \u001b[0manswer\u001b[0m\u001b[1;33m+=\u001b[0m\u001b[0mi\u001b[0m\u001b[1;33m\u001b[0m\u001b[1;33m\u001b[0m\u001b[0m\n",
      "\u001b[1;31mTypeError\u001b[0m: 'float' object cannot be interpreted as an integer"
     ]
    }
   ],
   "source": [
    "def solution(n):\n",
    "    answer = 0\n",
    "    \n",
    "    for i in range(1,n**0.5 +1):\n",
    "        if n % i == 0:\n",
    "            answer+=i\n",
    "        \n",
    "    \n",
    "    return answer+n\n",
    "\n",
    "solution(12)"
   ]
  },
  {
   "cell_type": "code",
   "execution_count": 38,
   "metadata": {},
   "outputs": [
    {
     "name": "stdout",
     "output_type": "stream",
     "text": [
      "26\n"
     ]
    }
   ],
   "source": [
    "lst_upper = [i for i in \"ABCDEFGHIJKLMNOPQRSTUVWXYZ\"]\n",
    "\n",
    "print(len(lst_upper))"
   ]
  },
  {
   "cell_type": "code",
   "execution_count": 43,
   "metadata": {},
   "outputs": [
    {
     "data": {
      "text/plain": [
       "'e F d'"
      ]
     },
     "execution_count": 43,
     "metadata": {},
     "output_type": "execute_result"
    }
   ],
   "source": [
    "def solution(s,n):\n",
    "    lst_upper = [i for i in \"ABCDEFGHIJKLMNOPQRSTUVWXYZ\"]\n",
    "    lst_lower = [i for i in \"abcdefghijklmnopqrstuvwxyz\"]\n",
    "    \n",
    "    answer = []\n",
    "    \n",
    "    for i in s:\n",
    "        if i.isupper():\n",
    "            for j in range(len(lst_upper)):\n",
    "                if i == lst_upper[j]:\n",
    "                    answer.append(lst_upper[(j+n)%26])\n",
    "        \n",
    "        elif i.islower():\n",
    "            for j in range(len(lst_lower)):\n",
    "                if i == lst_lower[j]:\n",
    "                    answer.append(lst_lower[(j+n)%26])\n",
    "                    \n",
    "        elif i == \" \":\n",
    "            answer.append(\" \")\n",
    "    \n",
    "    answer = \"\".join(answer)                \n",
    "        \n",
    "    return answer\n",
    "\n",
    "solution(\"a B z\",4)"
   ]
  },
  {
   "cell_type": "code",
   "execution_count": 48,
   "metadata": {},
   "outputs": [
    {
     "name": "stdout",
     "output_type": "stream",
     "text": [
      "수박수박수박\n"
     ]
    },
    {
     "data": {
      "text/plain": [
       "'수박수'"
      ]
     },
     "execution_count": 48,
     "metadata": {},
     "output_type": "execute_result"
    }
   ],
   "source": [
    "def water_melon(n):\n",
    "    s = \"수박\" * n\n",
    "    print(s)\n",
    "    return s[:n]\n",
    "\n",
    "water_melon(3)"
   ]
  },
  {
   "cell_type": "code",
   "execution_count": 60,
   "metadata": {},
   "outputs": [
    {
     "data": {
      "text/plain": [
       "array([1, 3], dtype=int64)"
      ]
     },
     "execution_count": 60,
     "metadata": {},
     "output_type": "execute_result"
    }
   ],
   "source": [
    "aa = [123, 421, 212, 11, 24, 102, 29, 92, 10]\n",
    "\n",
    "aa.index(10)\n",
    "\n",
    "b = ['hi', 'hello', 'bye', 'hello', 'hi']\n",
    "\n",
    "import numpy\n",
    "\n",
    "b = numpy.array(b)\n",
    "\n",
    "numpy.where(b == \"hello\")[0]"
   ]
  },
  {
   "cell_type": "code",
   "execution_count": 78,
   "metadata": {},
   "outputs": [
    {
     "data": {
      "text/plain": [
       "True"
      ]
     },
     "execution_count": 78,
     "metadata": {},
     "output_type": "execute_result"
    }
   ],
   "source": [
    "a = \"0\"\n",
    "a.isdigit()"
   ]
  },
  {
   "cell_type": "code",
   "execution_count": 96,
   "metadata": {},
   "outputs": [
    {
     "ename": "IndexError",
     "evalue": "list index out of range",
     "output_type": "error",
     "traceback": [
      "\u001b[1;31m---------------------------------------------------------------------------\u001b[0m",
      "\u001b[1;31mIndexError\u001b[0m                                Traceback (most recent call last)",
      "\u001b[1;32m<ipython-input-96-5eca7601e160>\u001b[0m in \u001b[0;36m<module>\u001b[1;34m\u001b[0m\n\u001b[0;32m     27\u001b[0m \u001b[1;33m\u001b[0m\u001b[0m\n\u001b[0;32m     28\u001b[0m \u001b[0mtest\u001b[0m \u001b[1;33m=\u001b[0m\u001b[1;34m\"1D2S0T\"\u001b[0m\u001b[1;33m\u001b[0m\u001b[1;33m\u001b[0m\u001b[0m\n\u001b[1;32m---> 29\u001b[1;33m \u001b[0msolution\u001b[0m\u001b[1;33m(\u001b[0m\u001b[0mtest\u001b[0m\u001b[1;33m)\u001b[0m\u001b[1;33m\u001b[0m\u001b[1;33m\u001b[0m\u001b[0m\n\u001b[0m",
      "\u001b[1;32m<ipython-input-96-5eca7601e160>\u001b[0m in \u001b[0;36msolution\u001b[1;34m(dartResult)\u001b[0m\n\u001b[0;32m      5\u001b[0m     \u001b[1;32mfor\u001b[0m \u001b[0mi\u001b[0m \u001b[1;32min\u001b[0m \u001b[0mrange\u001b[0m\u001b[1;33m(\u001b[0m\u001b[0mlen\u001b[0m\u001b[1;33m(\u001b[0m\u001b[0mdartResult\u001b[0m\u001b[1;33m)\u001b[0m\u001b[1;33m)\u001b[0m\u001b[1;33m:\u001b[0m\u001b[1;33m\u001b[0m\u001b[1;33m\u001b[0m\u001b[0m\n\u001b[0;32m      6\u001b[0m         \u001b[1;32mif\u001b[0m \u001b[0mdartResult\u001b[0m\u001b[1;33m[\u001b[0m\u001b[0mi\u001b[0m\u001b[1;33m]\u001b[0m\u001b[1;33m.\u001b[0m\u001b[0misdigit\u001b[0m\u001b[1;33m(\u001b[0m\u001b[1;33m)\u001b[0m\u001b[1;33m:\u001b[0m\u001b[1;33m\u001b[0m\u001b[1;33m\u001b[0m\u001b[0m\n\u001b[1;32m----> 7\u001b[1;33m                 \u001b[1;32mif\u001b[0m \u001b[0mstr\u001b[0m\u001b[1;33m(\u001b[0m\u001b[0mstack\u001b[0m\u001b[1;33m[\u001b[0m\u001b[1;33m-\u001b[0m\u001b[1;36m1\u001b[0m\u001b[1;33m]\u001b[0m\u001b[1;33m)\u001b[0m\u001b[1;33m.\u001b[0m\u001b[0misdigit\u001b[0m\u001b[1;33m(\u001b[0m\u001b[1;33m)\u001b[0m\u001b[1;33m:\u001b[0m\u001b[1;33m\u001b[0m\u001b[1;33m\u001b[0m\u001b[0m\n\u001b[0m\u001b[0;32m      8\u001b[0m                     \u001b[0mstack\u001b[0m\u001b[1;33m.\u001b[0m\u001b[0mappend\u001b[0m\u001b[1;33m(\u001b[0m\u001b[0mstack\u001b[0m\u001b[1;33m.\u001b[0m\u001b[0mpop\u001b[0m\u001b[1;33m(\u001b[0m\u001b[1;33m)\u001b[0m\u001b[1;33m*\u001b[0m\u001b[1;36m10\u001b[0m\u001b[1;33m)\u001b[0m\u001b[1;33m\u001b[0m\u001b[1;33m\u001b[0m\u001b[0m\n\u001b[0;32m      9\u001b[0m                 \u001b[1;32melse\u001b[0m\u001b[1;33m:\u001b[0m\u001b[1;33m\u001b[0m\u001b[1;33m\u001b[0m\u001b[0m\n",
      "\u001b[1;31mIndexError\u001b[0m: list index out of range"
     ]
    }
   ],
   "source": [
    "def solution(dartResult):\n",
    "    stack = []\n",
    "    res = 0\n",
    "    \n",
    "    for i in range(len(dartResult)):\n",
    "        if dartResult[i].isdigit():\n",
    "                if str(stack[-1]).isdigit():\n",
    "                    stack.append(stack.pop()*10)\n",
    "                else:\n",
    "                    pass\n",
    "                stack.append(int(dartResult[i]))\n",
    "        elif dartResult[i].isalpha():\n",
    "            if dartResult[i] == \"S\":\n",
    "                stack.append(int(stack.pop())**1)\n",
    "            elif dartResult[i] == \"D\":\n",
    "                stack.append(int(stack.pop())**2)\n",
    "            elif dartResult[i] == \"T\":\n",
    "                stack.append(int(stack.pop())**3)\n",
    "        else:\n",
    "            if dartResult[i] == \"*\":\n",
    "                stack=[int(i)*2 for i in stack]\n",
    "            elif dartResult[i] ==\"#\":\n",
    "                stack.append(int(stack.pop())*(-1))\n",
    "                \n",
    "    print(stack)  \n",
    "    return sum(stack)\n",
    "\n",
    "test =\"1D2S0T\"\n",
    "solution(test)"
   ]
  },
  {
   "cell_type": "code",
   "execution_count": 111,
   "metadata": {},
   "outputs": [
    {
     "name": "stdout",
     "output_type": "stream",
     "text": [
      "[0, 54, 6]\n"
     ]
    },
    {
     "data": {
      "text/plain": [
       "60"
      ]
     },
     "execution_count": 111,
     "metadata": {},
     "output_type": "execute_result"
    }
   ],
   "source": [
    "def solution(dartResult):\n",
    "    stack = []\n",
    "    res = 0\n",
    "    tmp = []\n",
    "    \n",
    "    dartResult = dartResult.replace(\"10\",\"A\")\n",
    "    \n",
    "    for i in range(len(dartResult)):\n",
    "        if dartResult[i].isdigit() or i ==\"A\":\n",
    "            stack.append(10 if i =='A' else int(i))\n",
    "            \n",
    "        elif dartResult[i].isalpha():\n",
    "            if dartResult[i] == \"S\":\n",
    "                stack.append(int(stack.pop())**1)\n",
    "            elif dartResult[i] == \"D\":\n",
    "                stack.append(int(stack.pop())**2)\n",
    "            elif dartResult[i] == \"T\":\n",
    "                stack.append(int(stack.pop())**3)\n",
    "        else:\n",
    "            if dartResult[i] == \"*\":\n",
    "                if len(stack)<2:\n",
    "                    stack[-1] = stack[-1]*2\n",
    "                else:\n",
    "                    stack[-1] = stack[-1]*2\n",
    "                    stack[-2] = stack[-2]*2\n",
    "            elif dartResult[i] ==\"#\":\n",
    "                stack.append(int(stack.pop())*(-1))\n",
    "        \n",
    "    print(stack)  \n",
    "    return sum(stack)\n",
    "\n",
    "test =\"1S*2T*3S\"\n",
    "solution(test)                \n",
    "        "
   ]
  },
  {
   "cell_type": "code",
   "execution_count": null,
   "metadata": {},
   "outputs": [],
   "source": [
    "# 딕셔너리 를 활용하자 s일때 1, d일때 2, t일때 3\n",
    "# 인덱스 값이 \"문자\"일때 딕셔너리를 활용해서 푸는 방법도 있다.\n",
    "# 컴퓨터는 두자리수 이상 넘어가면 연산이 어렵다.. 16진법처럼 10 == A로 변환해서 접근하자\n",
    "\n",
    "def solution(dartResult):\n",
    "    stack = []\n",
    "    dartResult = dartResult.replace(\"10\",\"A\")\n",
    "    bonus = {\"S\":1,\"D\":2,\"T\":3}\n",
    "    \n",
    "    for i in dartResult:\n",
    "        if i.isdigit() or i ==\"A\":\n",
    "            stack.append(10 if i == \"A\" else int(i))\n",
    "        elif i in (\"S\",\"D\",\"T\"):\n",
    "            num = stack.pop()\n",
    "            stack.append(num ** bonus[i])\n",
    "        elif i == \"#\":\n",
    "            stack[-1] *= -1\n",
    "        elif i == \"*\":\n",
    "            num = stack.pop()\n",
    "            if len(stack):\n",
    "                stack[-1] *= 2\n",
    "            stack.append(2*num)\n",
    "            \n",
    "    return sum(stack)"
   ]
  },
  {
   "cell_type": "code",
   "execution_count": 113,
   "metadata": {},
   "outputs": [
    {
     "name": "stdout",
     "output_type": "stream",
     "text": [
      "False\n"
     ]
    }
   ],
   "source": [
    "a,b = 5,10\n",
    "\n",
    "# 참일때 if 조건 else 거짓일때\n",
    "print(\"True\") if a>b else print(\"False\")"
   ]
  },
  {
   "cell_type": "code",
   "execution_count": 114,
   "metadata": {},
   "outputs": [
    {
     "data": {
      "text/plain": [
       "'w'"
      ]
     },
     "execution_count": 114,
     "metadata": {},
     "output_type": "execute_result"
    }
   ],
   "source": [
    "def string_middle(str):\n",
    "    # 함수를 완성하세요\n",
    "\n",
    "    return str[(len(str)-1)//2:len(str)//2+1]\n",
    "\n",
    "\n",
    "string_middle(\"power\")"
   ]
  },
  {
   "cell_type": "code",
   "execution_count": 117,
   "metadata": {},
   "outputs": [
    {
     "ename": "SyntaxError",
     "evalue": "invalid syntax (<ipython-input-117-78e6ad6d0300>, line 4)",
     "output_type": "error",
     "traceback": [
      "\u001b[1;36m  File \u001b[1;32m\"<ipython-input-117-78e6ad6d0300>\"\u001b[1;36m, line \u001b[1;32m4\u001b[0m\n\u001b[1;33m    return x if n%x ==1 else x=x+1\u001b[0m\n\u001b[1;37m                              ^\u001b[0m\n\u001b[1;31mSyntaxError\u001b[0m\u001b[1;31m:\u001b[0m invalid syntax\n"
     ]
    }
   ],
   "source": [
    "def solution(n):\n",
    "    x = 1\n",
    "    while True:\n",
    "        return x if n%x ==1 else x=x+1\n",
    "            \n",
    "solution(10)\n",
    "            "
   ]
  },
  {
   "cell_type": "code",
   "execution_count": 223,
   "metadata": {},
   "outputs": [
    {
     "name": "stdout",
     "output_type": "stream",
     "text": [
      "['01001', '00101', '00111', '01001', '01101']\n",
      "['01101', '01001', '00111', '00101', '01001']T\n",
      "['01111', '00001', '10101', '10001', '00111']\n",
      "['02112', '00102', '10212', '11002', '01212']\n"
     ]
    },
    {
     "data": {
      "text/plain": [
       "['#', '#', '#', '#', '#']"
      ]
     },
     "execution_count": 223,
     "metadata": {},
     "output_type": "execute_result"
    }
   ],
   "source": [
    "def solution(n, arr1, arr2):\n",
    "\n",
    "    arr1 = list(map(str,arr1))\n",
    "    arr2 = list(map(str,arr2))\n",
    "    \n",
    "\n",
    "    binary_lst = []\n",
    "    \n",
    "\n",
    "\n",
    "    for arr in (arr1,arr2):\n",
    "        for i in range(len(arr)):\n",
    "            \n",
    "            j = 0\n",
    "            \n",
    "            arr[i] = int(arr[i])\n",
    "            binary_num=\"\"\n",
    "            while arr[i]>0:\n",
    "                if arr[i]%2==0:\n",
    "                    binary_num = binary_num + \"0\"\n",
    "                    arr[i] = arr[i]//2\n",
    "                else:    \n",
    "                    binary_num += \"1\"\n",
    "                    arr[i] = arr[i]//2\n",
    "            \n",
    "            binary_lst.append(binary_num.zfill(5))\n",
    "    \n",
    "    binary_arr1 = binary_lst[:5]\n",
    "    binary_arr2 = binary_lst[5:]\n",
    "    \n",
    "    print(binary_arr1)\n",
    "    print(binary_arr2)\n",
    "    \n",
    "    res_arr = [str(int(x)+int(y)).zfill(5) for x,y in zip(binary_arr1,binary_arr2)]\n",
    "    \n",
    "    print(res_arr)\n",
    "    \n",
    "    res = []\n",
    "    \n",
    "    for i in res_arr:\n",
    "        if i ==\"0\":\n",
    "            res.append(\" \")\n",
    "        else:\n",
    "            res.append(\"#\")\n",
    "        \n",
    "    return res\n",
    "    \n",
    "arr1 = [9,20,28,18,11]\n",
    "arr2 = [30, 1, 21, 17, 28]\n",
    "\n",
    "solution(6,arr1,arr2)"
   ]
  },
  {
   "cell_type": "code",
   "execution_count": 230,
   "metadata": {},
   "outputs": [
    {
     "data": {
      "text/plain": [
       "[' #####', ' # # #', ' ### #', ' #  ##', ' #####']"
      ]
     },
     "execution_count": 230,
     "metadata": {},
     "output_type": "execute_result"
    }
   ],
   "source": [
    "def solution(n,arr1,arr2):\n",
    "    answer = []\n",
    "    for i,j in zip(arr1,arr2):\n",
    "        arr = str(bin(i|j)[2:])\n",
    "        arr = arr.rjust(n,\"0\")\n",
    "        arr = arr.replace(\"1\",\"#\")\n",
    "        arr = arr.replace(\"0\",\" \")\n",
    "        answer.append(arr)\n",
    "\n",
    "    return answer\n",
    "    \n",
    "arr1 = [9,20,28,18,11]\n",
    "arr2 = [30,1,21,17,28]\n",
    "solution(6,arr1,arr2)\n",
    "    "
   ]
  },
  {
   "cell_type": "code",
   "execution_count": 241,
   "metadata": {},
   "outputs": [
    {
     "name": "stdout",
     "output_type": "stream",
     "text": [
      "0b1\n",
      "0b10\n",
      "0b11\n",
      "0b0\n"
     ]
    }
   ],
   "source": [
    "a = 1\n",
    "b = 2\n",
    "c = 3\n",
    "print(bin(a))\n",
    "print(bin(b))\n",
    "print(bin(c))\n",
    "\n",
    "print(bin(a&b&c))"
   ]
  },
  {
   "cell_type": "code",
   "execution_count": 255,
   "metadata": {},
   "outputs": [
    {
     "name": "stdout",
     "output_type": "stream",
     "text": [
      "[2, 3, 4, 5, 6, 7]\n"
     ]
    },
    {
     "data": {
      "text/plain": [
       "[2, 3, 4, 5, 6, 7]"
      ]
     },
     "execution_count": 255,
     "metadata": {},
     "output_type": "execute_result"
    }
   ],
   "source": [
    "def solution(numbers):\n",
    "    tmp = []\n",
    "    for i in range(len(numbers)):\n",
    "        for j in range(i+1,len(numbers)):\n",
    "            tmp.append(numbers[i]+numbers[j])\n",
    "    tmp=sorted(list(set(tmp)))\n",
    "    \n",
    "    print(tmp)\n",
    "    \n",
    "    return tmp\n",
    "\n",
    "solution([2,1,3,4,1])"
   ]
  },
  {
   "cell_type": "code",
   "execution_count": 267,
   "metadata": {},
   "outputs": [
    {
     "name": "stdout",
     "output_type": "stream",
     "text": [
      "2\n",
      "2\n",
      "3\n",
      "3\n"
     ]
    },
    {
     "data": {
      "text/plain": [
       "4"
      ]
     },
     "execution_count": 267,
     "metadata": {},
     "output_type": "execute_result"
    }
   ],
   "source": [
    "def solution(d, budget):\n",
    "    \n",
    "    cnt = 0\n",
    "    while budget != 0:\n",
    "        if budget < min(d):\n",
    "            return cnt\n",
    "        else:\n",
    "            min_num=d.pop(d.index(min(d)))\n",
    "            print(min_num)\n",
    "            budget -= min_num\n",
    "            cnt+=1\n",
    "            \n",
    "    return cnt\n",
    "        \n",
    "\n",
    "d = [2,2,3,3]\n",
    "budget = 10\n",
    "\n",
    "solution(d,budget)"
   ]
  },
  {
   "cell_type": "code",
   "execution_count": 268,
   "metadata": {},
   "outputs": [
    {
     "name": "stdout",
     "output_type": "stream",
     "text": [
      "[2, 2, 3, 3]\n"
     ]
    },
    {
     "data": {
      "text/plain": [
       "4"
      ]
     },
     "execution_count": 268,
     "metadata": {},
     "output_type": "execute_result"
    }
   ],
   "source": [
    "def solution(d, budget):\n",
    "    d.sort()\n",
    "    print(d)\n",
    "    while budget < sum(d):\n",
    "        d.pop()\n",
    "    return len\n",
    "    \n",
    "\n",
    "d = [2,2,3,3]\n",
    "budget = 10\n",
    "\n",
    "solution(d,budget)"
   ]
  },
  {
   "cell_type": "code",
   "execution_count": 297,
   "metadata": {},
   "outputs": [
    {
     "name": "stdout",
     "output_type": "stream",
     "text": [
      "[0, 0, 2, 1]\n",
      "1\n",
      "2\n"
     ]
    },
    {
     "data": {
      "text/plain": [
       "7"
      ]
     },
     "execution_count": 297,
     "metadata": {},
     "output_type": "execute_result"
    }
   ],
   "source": [
    "tmp = []\n",
    "\n",
    "def triple(n):\n",
    "    if n < 3:\n",
    "        tmp.append(n)\n",
    "    if n > 3:\n",
    "        triple(n//3)\n",
    "        tmp.append(n%3)\n",
    "    \n",
    "    tri=list(reversed(tmp))\n",
    "    return tri\n",
    "\n",
    "def solution(n):\n",
    "    ans = 0\n",
    "    cnt = 0\n",
    "    \n",
    "    tri=triple(n)\n",
    "    print(tri)\n",
    "    \n",
    "    while tri:\n",
    "        if tri[-1] == 0:\n",
    "            break\n",
    "        else:\n",
    "            num=tri.pop()            \n",
    "            ans+=num*(3**cnt)            \n",
    "            cnt+=1\n",
    "        \n",
    "    return ans\n",
    "\n",
    "solution(45)\n"
   ]
  },
  {
   "cell_type": "code",
   "execution_count": 298,
   "metadata": {},
   "outputs": [],
   "source": [
    "def solution(n):\n",
    "    answer = ''\n",
    "\n",
    "    while n > 0:\t\t\t\n",
    "        n, re = divmod(n,3)\t# n을 3으로 나눈 몫과 나머지\n",
    "        answer += str(re)\n",
    "    return int(answer, 3)"
   ]
  },
  {
   "cell_type": "code",
   "execution_count": null,
   "metadata": {},
   "outputs": [],
   "source": [
    "def DFS(x):\n",
    "    if x==0:\n",
    "        return\n",
    "    else:\n",
    "        print(x%2,end=\" \")\n",
    "        DFS(x//2)\n",
    "        \n",
    "    \n",
    "\n",
    "\n",
    "if __name__==\"__main__\":\n",
    "    n = int(input())\n",
    "    DFS(n)"
   ]
  },
  {
   "cell_type": "code",
   "execution_count": 306,
   "metadata": {},
   "outputs": [
    {
     "name": "stdout",
     "output_type": "stream",
     "text": [
      "2\n",
      "4\n",
      "4\n",
      "5\n",
      "2\n"
     ]
    },
    {
     "data": {
      "text/plain": [
       "43"
      ]
     },
     "execution_count": 306,
     "metadata": {},
     "output_type": "execute_result"
    }
   ],
   "source": [
    "ㅠdef solution(left, right):\n",
    "    ans = 0\n",
    "    \n",
    "    \n",
    "    for i in range(left,right+1):\n",
    "        # 초기화 안함!!!\n",
    "        cnt=0\n",
    "        for j in range(1,i+1):\n",
    "            if i%j==0:\n",
    "                cnt+=1\n",
    "        print(cnt)\n",
    "        if cnt%2==0:\n",
    "            ans+=i\n",
    "        else:\n",
    "            ans-=i\n",
    "\n",
    "            \n",
    "    return ans\n",
    "\n",
    "solution(13,17)"
   ]
  },
  {
   "cell_type": "code",
   "execution_count": null,
   "metadata": {},
   "outputs": [],
   "source": [
    "def DFS(v):\n",
    "    if v == n+1:\n",
    "        for i in range(1,n+1):\n",
    "            if ch[i] == 1:\n",
    "                print(i,end=\"\")\n",
    "    else:\n",
    "        ch[v]=1\n",
    "        DFS(v+1)\n",
    "        ch[v]=0\n",
    "        DFS(v+1)\n",
    "        \n",
    "if __name__==\"__main__\":\n",
    "    n = int(input())\n",
    "    ch = [0]*(n+1)\n",
    "    DFS(1)"
   ]
  },
  {
   "cell_type": "code",
   "execution_count": null,
   "metadata": {},
   "outputs": [],
   "source": [
    "def DFS(v):\n",
    "    if v == n+1:\n",
    "        print(check_list)\n",
    "    else:\n",
    "        check_list[v]=1\n",
    "        DFS(v+1)\n",
    "        check_list[v]=0\n",
    "        DFS(v+1)\n",
    "\n",
    "\n",
    "if __name__ == \"__main__\":\n",
    "    n = int(input())\n",
    "    check_list = [0]*(n+1)\n",
    "    DFS(1)"
   ]
  },
  {
   "cell_type": "code",
   "execution_count": 388,
   "metadata": {},
   "outputs": [
    {
     "data": {
      "text/plain": [
       "[4, 1, 2, 3]"
      ]
     },
     "execution_count": 388,
     "metadata": {},
     "output_type": "execute_result"
    }
   ],
   "source": [
    "def solution(N, stages):\n",
    "    \n",
    "    total_num = len(stages)\n",
    "    check_list = [0]*(N+1)\n",
    "    fail_ratio = []\n",
    "    \n",
    "    for i in stages:\n",
    "        check_list[i-1]=check_list[i-1]+1\n",
    "        \n",
    "\n",
    "    for idx,val in enumerate(check_list):\n",
    "        if total_num==0:\n",
    "            fail_ratio.append((0,idx+1))\n",
    "        else:\n",
    "            fail_ratio.append((check_list[idx]/total_num,idx+1))\n",
    "            total_num = total_num - check_list[idx]\n",
    "    fail_ratio = fail_ratio[:-1]\n",
    "    answer=sorted(fail_ratio,key=lambda x:(-x[0],x[1]))\n",
    "\n",
    "    ans=[j for i,j in answer]\n",
    "    return ans\n",
    "\n",
    "solution(4,[4,4,4,4,4])\n"
   ]
  },
  {
   "cell_type": "code",
   "execution_count": 390,
   "metadata": {},
   "outputs": [
    {
     "data": {
      "text/plain": [
       "2"
      ]
     },
     "execution_count": 390,
     "metadata": {},
     "output_type": "execute_result"
    }
   ],
   "source": [
    "def solution(nums):\n",
    "    cnt = len(nums)//2\n",
    "    nums_set = set(nums)\n",
    "    \n",
    "    if len(nums_set)>cnt:\n",
    "        return cnt\n",
    "    else:\n",
    "        return len(nums_set)\n",
    "\n",
    "\n",
    "\n",
    "nums = [3,1,2,3]\n",
    "\n",
    "solution(nums)\n",
    "#output 2"
   ]
  },
  {
   "cell_type": "code",
   "execution_count": 406,
   "metadata": {},
   "outputs": [
    {
     "ename": "IndexError",
     "evalue": "pop index out of range",
     "output_type": "error",
     "traceback": [
      "\u001b[1;31m---------------------------------------------------------------------------\u001b[0m",
      "\u001b[1;31mIndexError\u001b[0m                                Traceback (most recent call last)",
      "\u001b[1;32m<ipython-input-406-66c442ebdbcb>\u001b[0m in \u001b[0;36m<module>\u001b[1;34m\u001b[0m\n\u001b[0;32m     22\u001b[0m \u001b[0mreserve\u001b[0m \u001b[1;33m=\u001b[0m \u001b[1;33m[\u001b[0m\u001b[1;36m1\u001b[0m\u001b[1;33m,\u001b[0m\u001b[1;36m3\u001b[0m\u001b[1;33m,\u001b[0m\u001b[1;36m5\u001b[0m\u001b[1;33m]\u001b[0m\u001b[1;33m\u001b[0m\u001b[1;33m\u001b[0m\u001b[0m\n\u001b[0;32m     23\u001b[0m \u001b[1;33m\u001b[0m\u001b[0m\n\u001b[1;32m---> 24\u001b[1;33m \u001b[0msolution\u001b[0m\u001b[1;33m(\u001b[0m\u001b[0mn\u001b[0m\u001b[1;33m,\u001b[0m\u001b[0mlost\u001b[0m\u001b[1;33m,\u001b[0m\u001b[0mreserve\u001b[0m\u001b[1;33m)\u001b[0m\u001b[1;33m\u001b[0m\u001b[1;33m\u001b[0m\u001b[0m\n\u001b[0m",
      "\u001b[1;32m<ipython-input-406-66c442ebdbcb>\u001b[0m in \u001b[0;36msolution\u001b[1;34m(n, lost, reserve)\u001b[0m\n\u001b[0;32m      4\u001b[0m     \u001b[1;32mwhile\u001b[0m \u001b[0mi\u001b[0m \u001b[1;33m<\u001b[0m \u001b[0mlen\u001b[0m\u001b[1;33m(\u001b[0m\u001b[0mlost\u001b[0m\u001b[1;33m)\u001b[0m\u001b[1;33m:\u001b[0m\u001b[1;33m\u001b[0m\u001b[1;33m\u001b[0m\u001b[0m\n\u001b[0;32m      5\u001b[0m         \u001b[1;32mif\u001b[0m \u001b[0mlost\u001b[0m\u001b[1;33m[\u001b[0m\u001b[0mi\u001b[0m\u001b[1;33m]\u001b[0m\u001b[1;33m+\u001b[0m\u001b[1;36m1\u001b[0m \u001b[1;32min\u001b[0m \u001b[0mreserve\u001b[0m\u001b[1;33m:\u001b[0m\u001b[1;33m\u001b[0m\u001b[1;33m\u001b[0m\u001b[0m\n\u001b[1;32m----> 6\u001b[1;33m             \u001b[0mtmp\u001b[0m\u001b[1;33m=\u001b[0m\u001b[0mlost\u001b[0m\u001b[1;33m.\u001b[0m\u001b[0mpop\u001b[0m\u001b[1;33m(\u001b[0m\u001b[0mlost\u001b[0m\u001b[1;33m[\u001b[0m\u001b[0mi\u001b[0m\u001b[1;33m]\u001b[0m\u001b[1;33m)\u001b[0m\u001b[1;33m\u001b[0m\u001b[1;33m\u001b[0m\u001b[0m\n\u001b[0m\u001b[0;32m      7\u001b[0m             \u001b[0mreserve\u001b[0m\u001b[1;33m.\u001b[0m\u001b[0mpop\u001b[0m\u001b[1;33m(\u001b[0m\u001b[0mreserve\u001b[0m\u001b[1;33m.\u001b[0m\u001b[0mindex\u001b[0m\u001b[1;33m(\u001b[0m\u001b[0mtmp\u001b[0m\u001b[1;33m+\u001b[0m\u001b[1;36m1\u001b[0m\u001b[1;33m)\u001b[0m\u001b[1;33m)\u001b[0m\u001b[1;33m\u001b[0m\u001b[1;33m\u001b[0m\u001b[0m\n\u001b[0;32m      8\u001b[0m             \u001b[0mprint\u001b[0m\u001b[1;33m(\u001b[0m\u001b[0mlost\u001b[0m\u001b[1;33m)\u001b[0m\u001b[1;33m\u001b[0m\u001b[1;33m\u001b[0m\u001b[0m\n",
      "\u001b[1;31mIndexError\u001b[0m: pop index out of range"
     ]
    }
   ],
   "source": [
    "def solution(n, lost, reserve):\n",
    "    \n",
    "    i = 0\n",
    "    while i < len(lost):\n",
    "        if lost[i]+1 in reserve:\n",
    "            tmp=lost.pop(lost[i])\n",
    "            reserve.pop(reserve.index(tmp+1))\n",
    "            print(lost)\n",
    "        elif lost[i]-1 in reserve:\n",
    "            tmp=lost.pop(lost[i])\n",
    "            reserve.pop(reserve.index(tmp-1))\n",
    "        else:\n",
    "            i+=1\n",
    "        \n",
    "             \n",
    "    answer = n - len(lost)\n",
    "    return answer\n",
    "\n",
    "\n",
    "n = 5\n",
    "lost = [2,4]\n",
    "reserve = [1,3,5]\n",
    "\n",
    "solution(n,lost,reserve)"
   ]
  },
  {
   "cell_type": "code",
   "execution_count": null,
   "metadata": {},
   "outputs": [],
   "source": [
    "def solution(n, lost, reserve):\n",
    "    answer = 0\n",
    "    for i in range(1, n+1):\n",
    "        if i not in lost: #안 잃어버린 학생\n",
    "            answer += 1\n",
    "        else:\n",
    "            if i in reserve: #잃어버렸지만 여분도 있는 학생\n",
    "                answer += 1\n",
    "                reserve.remove(i)\n",
    "                lost.remove(i)\n",
    "\n",
    "    for i in lost: #잃어버리고 여분도 없어서 빌려야 하는 학생\n",
    "        if i-1 in reserve:\n",
    "            answer += 1\n",
    "            reserve.remove(i-1)\n",
    "\n",
    "        elif i+1 in reserve:\n",
    "            answer +=1\n",
    "            reserve.remove(i+1)\n",
    "\n",
    "    return answer"
   ]
  },
  {
   "cell_type": "code",
   "execution_count": null,
   "metadata": {},
   "outputs": [],
   "source": [
    "def DFS(v):\n",
    "    if v+1 == n:\n",
    "        print(\"end\")\n",
    "    else:\n",
    "        DFS(2*v)\n",
    "        print(v)\n",
    "        DFS(2*v+1)\n",
    "        \n",
    "n=5   \n",
    "DFS(1)"
   ]
  },
  {
   "cell_type": "code",
   "execution_count": 10,
   "metadata": {},
   "outputs": [
    {
     "ename": "ValueError",
     "evalue": "invalid literal for int() with base 16: '1457.11'",
     "output_type": "error",
     "traceback": [
      "\u001b[1;31m---------------------------------------------------------------------------\u001b[0m",
      "\u001b[1;31mValueError\u001b[0m                                Traceback (most recent call last)",
      "\u001b[1;32m<ipython-input-10-fe4f97cedd48>\u001b[0m in \u001b[0;36m<module>\u001b[1;34m\u001b[0m\n\u001b[0;32m      1\u001b[0m \u001b[0mdivmod\u001b[0m\u001b[1;33m(\u001b[0m\u001b[1;36m91\u001b[0m\u001b[1;33m,\u001b[0m\u001b[1;36m16\u001b[0m\u001b[1;33m)\u001b[0m\u001b[1;33m\u001b[0m\u001b[1;33m\u001b[0m\u001b[0m\n\u001b[0;32m      2\u001b[0m \u001b[1;33m\u001b[0m\u001b[0m\n\u001b[1;32m----> 3\u001b[1;33m \u001b[0mint\u001b[0m\u001b[1;33m(\u001b[0m\u001b[1;34m\"1457.11\"\u001b[0m\u001b[1;33m,\u001b[0m\u001b[1;36m16\u001b[0m\u001b[1;33m)\u001b[0m\u001b[1;33m\u001b[0m\u001b[1;33m\u001b[0m\u001b[0m\n\u001b[0m",
      "\u001b[1;31mValueError\u001b[0m: invalid literal for int() with base 16: '1457.11'"
     ]
    }
   ],
   "source": [
    "divmod(91,16)\n",
    "\n",
    "int(\"1457.11\",16)"
   ]
  },
  {
   "cell_type": "code",
   "execution_count": 70,
   "metadata": {},
   "outputs": [
    {
     "name": "stdout",
     "output_type": "stream",
     "text": [
      "[2, 2, 2]\n"
     ]
    },
    {
     "data": {
      "text/plain": [
       "[1, 2, 3]"
      ]
     },
     "execution_count": 70,
     "metadata": {},
     "output_type": "execute_result"
    }
   ],
   "source": [
    "def solution(answers):\n",
    "    one = [1,2,3,4,5]\n",
    "    two = [2,1,2,3,2,4,2,5]\n",
    "    three = [3,3,1,1,2,2,4,4,5,5] \n",
    "    answer = []\n",
    "    cnt = 0\n",
    "    \n",
    "    length = len(answer)\n",
    "    \n",
    "    for i in range(len(answers)):\n",
    "        if answers[i] == one[i]:\n",
    "            cnt+=1\n",
    "    answer.append(cnt)\n",
    "              \n",
    "    cnt = 0\n",
    "    for i in range(len(answers)):\n",
    "        if answers[i] == two[i]:\n",
    "            cnt+=1\n",
    "    \n",
    "    answer.append(cnt)\n",
    "              \n",
    "    cnt = 0            \n",
    "    for i in range(len(answers)):\n",
    "        if answers[i] == three[i]:\n",
    "            cnt+=1\n",
    "            \n",
    "    answer.append(cnt)\n",
    "    \n",
    "    dic = {}\n",
    "    \n",
    "    result = []\n",
    "    print(answer)\n",
    "    for idx,val in enumerate(answer):\n",
    "        if val == max(answer):\n",
    "            result.append(idx+1)\n",
    "    \n",
    "\n",
    "    return result\n",
    "\n",
    "answers = [1,3,2,4,2]\n",
    "solution(answers)"
   ]
  },
  {
   "cell_type": "code",
   "execution_count": 8,
   "metadata": {},
   "outputs": [
    {
     "name": "stdout",
     "output_type": "stream",
     "text": [
      "[1, 2, 3, 4]\n",
      "(1, 2, 3, 4)\n",
      "0 1\n",
      "1 2\n",
      "2 3\n",
      "3 4\n",
      "1\n"
     ]
    }
   ],
   "source": [
    "import sys\n",
    "import itertools as it\n",
    "\n",
    "n=4\n",
    "\n",
    "a=list(range(1,n+1))\n",
    "print(a)\n",
    "\n",
    "cnt = 0\n",
    "for tmp in it.permutations(a):\n",
    "    print(tmp)\n",
    "    cnt+=1\n",
    "    for L,x in enumerate(tmp):\n",
    "        sum+=(x*b[L])\n",
    "    if sum == f:\n",
    "        for x in tmp:\n",
    "            print(x,end=\" \")\n",
    "        break\n",
    "        print(L,x)\n",
    "    break\n",
    "\n",
    "print(cnt)"
   ]
  },
  {
   "cell_type": "code",
   "execution_count": 9,
   "metadata": {},
   "outputs": [
    {
     "ename": "IndentationError",
     "evalue": "expected an indented block (<ipython-input-9-f400757a09f5>, line 4)",
     "output_type": "error",
     "traceback": [
      "\u001b[1;36m  File \u001b[1;32m\"<ipython-input-9-f400757a09f5>\"\u001b[1;36m, line \u001b[1;32m4\u001b[0m\n\u001b[1;33m    for x in it.combinations(a,k):\u001b[0m\n\u001b[1;37m                                  ^\u001b[0m\n\u001b[1;31mIndentationError\u001b[0m\u001b[1;31m:\u001b[0m expected an indented block\n"
     ]
    }
   ],
   "source": [
    "import sys\n",
    "import itertools as it\n",
    "\n",
    "cnt = 0\n",
    "# 조합 \n",
    "for x in it.combinations(a,k):\n",
    "    priint(x)\n"
   ]
  },
  {
   "cell_type": "code",
   "execution_count": null,
   "metadata": {},
   "outputs": [],
   "source": [
    "def solution(array, commands):\n",
    "    \n",
    "    # array = [1, 5, 2, 6, 3, 7, 4]\n",
    "    # commands = [[2, 5, 3], [4, 4, 1], [1, 7, 3]]\n",
    "    \n",
    "    answer = []\n",
    "    return answer\n"
   ]
  },
  {
   "cell_type": "code",
   "execution_count": null,
   "metadata": {},
   "outputs": [],
   "source": [
    "def DFS(level,sum):\n",
    "    global cnt\n",
    "    if sum > T:\n",
    "        return\n",
    "    \n",
    "    if level == k:\n",
    "        if sum == T:\n",
    "            cnt+=1\n",
    "    else:\n",
    "        for i in range(coin_amount[L]+1):\n",
    "            DFS(level+1,sum+coin_value[level]*i)\n",
    "\n",
    "\n",
    "if __name__ == \"__main__\":\n",
    "    T = 20\n",
    "    k = 3\n",
    "    coin_value = list()\n",
    "    coin_amount= list()\n",
    "    \n",
    "    for i in range(k):\n",
    "        money,amount = map(int,input().split())\n",
    "        coin_value.append(money)\n",
    "        coin_amount.append(amount)\n",
    "        \n",
    "    cnt = 0\n",
    "    DFS(0,0)\n",
    "    print(cnt)\n",
    "    "
   ]
  },
  {
   "cell_type": "code",
   "execution_count": null,
   "metadata": {},
   "outputs": [],
   "source": [
    "def DFS(level):\n",
    "    if level == 5:\n",
    "        print(\"end\")\n",
    "        return\n",
    "    else:\n",
    "        DFS(level)\n",
    "if __name__ == \"__main__\":\n",
    "    n = 5\n",
    "    DFS(0)\n",
    "    "
   ]
  },
  {
   "cell_type": "code",
   "execution_count": null,
   "metadata": {},
   "outputs": [],
   "source": [
    "def DFS(level,sum):\n",
    "    global cnt\n",
    "    if level == k:\n",
    "        if sum == T:\n",
    "            cnt+=1\n",
    "            return\n",
    "    else:\n",
    "        for i in range(cn_val[level]):\n",
    "            DFS(level+1,sum+i*cn_val[level])\n",
    "            \n",
    "    \n",
    "\n",
    "if __name__ == \"__main__\":\n",
    "    T = int(input())\n",
    "    k = int(input())\n",
    "    \n",
    "    cn_val = list()\n",
    "    cn_n = list()\n",
    "    \n",
    "    for i in range(k):\n",
    "        a,b = map(int,input().split())\n",
    "        cn_val.append(a)\n",
    "        cn_n.append(b)\n",
    "    \n",
    "    cnt = 0\n",
    "    DFS(0,0)"
   ]
  },
  {
   "cell_type": "code",
   "execution_count": null,
   "metadata": {},
   "outputs": [],
   "source": [
    "def DFS()\n",
    "\n",
    "if __name__ == \"__main__\":\n",
    "    N = int(input())\n",
    "    c_v = list()\n",
    "    res = list()\n",
    "    \n",
    "    for _ in range(N):\n",
    "        c_v.append(int(input()))\n",
    "    DFS(level,N)"
   ]
  },
  {
   "cell_type": "code",
   "execution_count": null,
   "metadata": {},
   "outputs": [],
   "source": [
    "def DFS(L):\n",
    "    global res\n",
    "    if L == n:\n",
    "        cha = max(money)-min(money)\n",
    "        \n",
    "        \n",
    "    else:\n",
    "        for i in range(3):\n",
    "            money[i]+=coin[L]\n",
    "\n",
    "if __name__ == \"__main__\":\n",
    "    n = int(input())\n",
    "    coin=[]\n",
    "    money=[0]*3\n",
    "    res=float(\"inf\")\n",
    "    for _ in range(n):\n",
    "        coin.append(int(input()))\n",
    "    DFS()    "
   ]
  },
  {
   "cell_type": "code",
   "execution_count": null,
   "metadata": {},
   "outputs": [],
   "source": [
    "def DFS(level):\n",
    "    if level == n:\n",
    "        cha = max(money) - min(money)\n",
    "        if cha < res:\n",
    "            tmp = set()\n",
    "            for x in money:\n",
    "                tmp.add(x)\n",
    "            if len(tmp) == 3:\n",
    "                res = cha\n",
    "                \n",
    "    else:\n",
    "        for i in range(3):\n",
    "            money[i] += coin[L]\n",
    "            DFS(L+1)\n",
    "            mon\n",
    "\n",
    "\n",
    "\n",
    "if __name__ == \"__main__\":\n",
    "    n = int(input())\n",
    "    coin = []\n",
    "    money = [0]*3\n",
    "    res = float(\"inf\")\n",
    "    \n",
    "    for _ in range(n):\n",
    "        coin.append(int(input()))\n",
    "    DFS(0)\n",
    "    print(res)"
   ]
  },
  {
   "cell_type": "code",
   "execution_count": null,
   "metadata": {},
   "outputs": [],
   "source": [
    "import sys\n",
    "from collections import deque\n",
    "sys.stdin= open(\"input.txt\",\"r\")\n",
    "\n",
    "MAX = 10000\n",
    "\n",
    "ch = [0] * (MAX+1)\n",
    "dis = [0] * (MAX+1)\n",
    "\n",
    "n,m = map(int,input().split())\n",
    "# ch = 방문한 큐\n",
    "ch[n]=1\n",
    "# dis = 시작에서 방문한 큐까지의 거리\n",
    "dis[n]=0\n",
    "\n",
    "dQ = deque()\n",
    "dQ.append(n)\n",
    "\n",
    "# 큐가 비거나, 목표노드에 도달할 때까지.\n",
    "while dQ:\n",
    "    now = dQ.popleft()\n",
    "    if now == m:\n",
    "        break\n",
    "    # 튜플로 묶으면 차례대로 for문이 실행된다.\n",
    "    for next in(now-1,now+1,now+5):\n",
    "        # 제약조건일떄\n",
    "        if 0<next<=MAX:\n",
    "            # 방문을 안했을때만 q에 넣는다.\n",
    "            if ch[next]==0:\n",
    "                dQ.append(next)\n",
    "                ch[next] = 1\n",
    "                # 거리를 쌓는것\n",
    "                dis[next]=dis[now]+1\n",
    "                \n",
    "print(dis[m])\n"
   ]
  },
  {
   "cell_type": "code",
   "execution_count": 1,
   "metadata": {},
   "outputs": [
    {
     "name": "stdout",
     "output_type": "stream",
     "text": [
      "4\n",
      "5\n",
      "10\n"
     ]
    }
   ],
   "source": [
    "import sys\n",
    "from collections import deque\n",
    "\n",
    "sys.stdin = open(\"input.txt\",\"r\")\n",
    "# 상하좌우 좌표 생성\n",
    "dx = [-1,0,1,0]\n",
    "dy = [0,-1,0,-1]\n",
    "\n",
    "# 데이터 입력받기\n",
    "n = int(input())\n",
    "a = [list(map(int,input().split())) for _ in range(n)]\n",
    "# 갔던 길을 또 다시 가지 않기 위한 체크리스트 생성\n",
    "ch = [[0]*n for _ in range(n)]\n",
    "\n",
    "sum = 0\n",
    "\n",
    "#루트 노드에 대한 정보를 연다.\n",
    "Q = deque()\n",
    "ch[n//2][n//2] = 1\n",
    "sum += a[n//2][n//2]\n",
    "Q.append((n//2,n//2))\n",
    "L=0\n",
    "\n",
    "while True:\n",
    "    if L == n//2:\n",
    "        break\n",
    "    size= len(Q)\n",
    "    for i in range(size):\n",
    "        tmp = Q.popleft()\n",
    "        for j in range(4):\n",
    "            # x좌표 : tmp[0]\n",
    "            # y좌표 : tmp[1]\n",
    "            # 상하좌우 좌표를 더해서 계산한다.\n",
    "            # x,y 좌표를 얻는다.\n",
    "            x = tmp[0]+dx[j]\n",
    "            y = tmp[1]+dy[j]\n",
    "            if ch[x][y] == 0:\n",
    "                sum+= a[x][y]\n",
    "                ch[x][y]=1\n",
    "                Q.append((x,y))\n",
    "                \n",
    "    L+=1\n",
    "    "
   ]
  },
  {
   "cell_type": "code",
   "execution_count": null,
   "metadata": {},
   "outputs": [],
   "source": [
    "import sys\n",
    "from collections import deque\n",
    "\n",
    "arr = [[map(int,input().split())] for i in range(7)]\n",
    "\n",
    "dx = [0,0,-1,1]\n",
    "dy = [-1,1,0,0]\n",
    "\n",
    "\n",
    "ch = [0]*8\n",
    "start = (1,1)\n",
    "end = (7,7)\n",
    "dq = deque()\n",
    "dq.append(start)\n",
    "ch[1][1] =1\n",
    "dis = [0]*8\n",
    "\n",
    "while True:\n",
    "    now = dq.popleft()\n",
    "    if now == end:\n",
    "        break\n",
    "    else:\n",
    "        for i in range(4):\n",
    "            x = now[0] +dx[i]\n",
    "            y = now[1] +dx[i]\n",
    "            if arr[x][y] == 0:\n",
    "                if arr[x][y] != 1:\n",
    "                    dq.append((x,y))\n",
    "                    ch[x][y]=1\n",
    "                    dis[x][y]=dis[now]+dis[i]\n",
    "                \n",
    "    "
   ]
  },
  {
   "cell_type": "code",
   "execution_count": null,
   "metadata": {},
   "outputs": [],
   "source": [
    "import sys\n",
    "from collections import deque\n",
    "sys.stdin = open(\"input.txt\",\"r\")\n",
    "\n",
    "dx = [0,0,-1,1]\n",
    "dy = [-1,1,0,0]\n",
    "\n",
    "board = [list(map(int,input().split())) for _ in range(7)]\n",
    "dis = [[0]*7 for _ in range(7)]\n",
    "\n",
    "Q = deque()\n",
    "Q.append((0,0))\n",
    "board[0][0] =1\n",
    "\n",
    "while Q:\n",
    "    tmp = Q.popleft()\n",
    "    for i in range(4):\n",
    "        x = tmp[0] + dx[i]\n",
    "        y = tmp[1] + dy[i]\n",
    "        if 0<= x <= 6 and 0<=y<=6 and board[x][y]==0:\n",
    "            board[x][y]=1\n",
    "            dis[x][y] = dis[tmp[0]][tmp[1]]+1\n",
    "            Q.append((x,y))\n",
    "            \n",
    "            \n",
    "if dis[6][6] == 0:\n",
    "    print(-1)\n",
    "else:\n",
    "    print(dis[6][6])\n",
    "        \n",
    "        "
   ]
  },
  {
   "cell_type": "code",
   "execution_count": null,
   "metadata": {},
   "outputs": [],
   "source": [
    "import sys\n",
    "from collections import deque\n",
    "\n",
    "\n",
    "def DFS(cood):\n",
    "    global cnt\n",
    "    if cood == (7,7):\n",
    "        return\n",
    "    else:\n",
    "        for i in range(4):\n",
    "            x = tmp[0] + dx[i]\n",
    "            y = tmp[1] + dy[i]\n",
    "            DFS((x,y))\n",
    "            \n",
    "\n",
    "\n",
    "if __name__ == \"__main__\":\n",
    "    sys.stdin = open(\"input.txt\",\"r\")\n",
    "    # 상하좌우 좌표 생성\n",
    "    dx = [-1,0,1,0]\n",
    "    dy = [0,-1,0,-1]\n",
    "\n",
    "    # 데이터 입력받기\n",
    "    n = int(input())\n",
    "    a = [list(map(int,input().split())) for _ in range(n)]\n",
    "    # 갔던 길을 또 다시 가지 않기 위한 체크리스트 생성\n",
    "    ch = [[0]*n for _ in range(n)]\n",
    "    \n",
    "    cnt = 0\n",
    "    DFS((0,0))\n",
    "\n"
   ]
  },
  {
   "cell_type": "code",
   "execution_count": 2,
   "metadata": {},
   "outputs": [
    {
     "ename": "IndentationError",
     "evalue": "expected an indented block (<ipython-input-2-7adee5445a61>, line 6)",
     "output_type": "error",
     "traceback": [
      "\u001b[1;36m  File \u001b[1;32m\"<ipython-input-2-7adee5445a61>\"\u001b[1;36m, line \u001b[1;32m6\u001b[0m\n\u001b[1;33m    def DFS(x,y):\u001b[0m\n\u001b[1;37m                 ^\u001b[0m\n\u001b[1;31mIndentationError\u001b[0m\u001b[1;31m:\u001b[0m expected an indented block\n"
     ]
    }
   ],
   "source": [
    "import sys\n",
    "sys.stdin = open(\"input.txt\",\"r\")\n",
    "dx = [-1,1,0,0]\n",
    "dy = [0,0,-1,1]\n",
    "\n",
    "def DFS(x,y):\n",
    "    global cnt\n",
    "    if x == 6 and y == 6:\n",
    "        cnt+=1\n",
    "    else:\n",
    "        for i in range(4):\n",
    "            xx = x+ dx[i]\n",
    "            yy = y+ dy[i]\n",
    "            if 0<=xx<=6 and 0<=yy<=6 and board[xx][yy]==0:\n",
    "                board[xx][yy]=1\n",
    "                DFS(xx,yy)\n",
    "                board[xx][yy]=0\n",
    "                "
   ]
  },
  {
   "cell_type": "code",
   "execution_count": 3,
   "metadata": {},
   "outputs": [
    {
     "ename": "ValueError",
     "evalue": "invalid literal for int() with base 10: ''",
     "output_type": "error",
     "traceback": [
      "\u001b[1;31m---------------------------------------------------------------------------\u001b[0m",
      "\u001b[1;31mValueError\u001b[0m                                Traceback (most recent call last)",
      "\u001b[1;32m<ipython-input-3-85a56d68ac9b>\u001b[0m in \u001b[0;36m<module>\u001b[1;34m\u001b[0m\n\u001b[0;32m      1\u001b[0m \u001b[1;32mif\u001b[0m \u001b[0m__name__\u001b[0m \u001b[1;33m==\u001b[0m \u001b[1;34m\"__main__\"\u001b[0m\u001b[1;33m:\u001b[0m\u001b[1;33m\u001b[0m\u001b[1;33m\u001b[0m\u001b[0m\n\u001b[1;32m----> 2\u001b[1;33m     \u001b[0mn\u001b[0m \u001b[1;33m=\u001b[0m \u001b[0mint\u001b[0m\u001b[1;33m(\u001b[0m\u001b[0minput\u001b[0m\u001b[1;33m(\u001b[0m\u001b[1;33m)\u001b[0m\u001b[1;33m)\u001b[0m\u001b[1;33m\u001b[0m\u001b[1;33m\u001b[0m\u001b[0m\n\u001b[0m\u001b[0;32m      3\u001b[0m \u001b[1;33m\u001b[0m\u001b[0m\n\u001b[0;32m      4\u001b[0m     \u001b[0marr\u001b[0m \u001b[1;33m=\u001b[0m \u001b[1;33m[\u001b[0m\u001b[1;33m[\u001b[0m\u001b[0mmap\u001b[0m\u001b[1;33m(\u001b[0m\u001b[0mint\u001b[0m\u001b[1;33m,\u001b[0m\u001b[0minput\u001b[0m\u001b[1;33m(\u001b[0m\u001b[1;33m)\u001b[0m\u001b[1;33m.\u001b[0m\u001b[0msplit\u001b[0m\u001b[1;33m(\u001b[0m\u001b[1;33m)\u001b[0m\u001b[1;33m)\u001b[0m\u001b[1;33m]\u001b[0m \u001b[1;32mfor\u001b[0m \u001b[0m_\u001b[0m \u001b[1;32min\u001b[0m \u001b[0mrange\u001b[0m\u001b[1;33m(\u001b[0m\u001b[0mn\u001b[0m\u001b[1;33m)\u001b[0m\u001b[1;33m]\u001b[0m\u001b[1;33m\u001b[0m\u001b[1;33m\u001b[0m\u001b[0m\n\u001b[0;32m      5\u001b[0m \u001b[1;33m\u001b[0m\u001b[0m\n",
      "\u001b[1;31mValueError\u001b[0m: invalid literal for int() with base 10: ''"
     ]
    }
   ],
   "source": [
    "def DFS(x,y):\n",
    "    global cnt\n",
    "    if arr[x][y] == max_idx:\n",
    "        cnt+=1\n",
    "    else:\n",
    "        for i in range(4):\n",
    "            xx = x + dx[i]\n",
    "            yy = y + dy[i]\n",
    "            if 0<=xx<=5 and 0<=yy<=5 and board[xx][yy]==0:\n",
    "                check_arr[xx][yy]=1\n",
    "                DFS(xx,yy)\n",
    "                check_arr[xx][yy]=0\n",
    "                \n",
    "            \n",
    "\n",
    "\n",
    "\n",
    "if __name__ == \"__main__\":\n",
    "    n = int(input())\n",
    "    \n",
    "    arr = [[map(int,input().split())] for _ in range(n)]\n",
    "    check_arr = [[0]*n for _ in range(n)]\n",
    "\n",
    "    max = float(\"-inf\")\n",
    "    min = float(\"inf\")\n",
    "\n",
    "    for i in range(n):\n",
    "        # 한줄씩 읽음\n",
    "        tmp = list(map(int,input().split()))\n",
    "        for j in range(n):\n",
    "            if tmp[j] < min:\n",
    "                min = tmp[j]\n",
    "                sx=i\n",
    "                sy=j\n",
    "            if tmp[j]>max:\n",
    "                max = tmp[j]\n",
    "                ex = i\n",
    "                ey = j\n",
    "            borad[i][j] = tmp[j]\n",
    "    \n",
    "    ch[sx][sy]=1\n",
    "    cnt = 0\n",
    "    DFS(sx,sy)\n",
    "    print(cnt)\n",
    "    \n",
    "\n",
    "    \n",
    "    "
   ]
  },
  {
   "cell_type": "code",
   "execution_count": 4,
   "metadata": {},
   "outputs": [
    {
     "name": "stdout",
     "output_type": "stream",
     "text": [
      "[[<map object at 0x000002907DDC9340>], [<map object at 0x000002907DDD6F70>], [<map object at 0x000002907DDD61F0>], [<map object at 0x000002907DDD6610>]]\n"
     ]
    }
   ],
   "source": [
    "n = int(input())\n",
    "    \n",
    "arr = [[map(int,input().split())] for _ in range(n)]\n",
    "    \n",
    "    \n",
    "print(arr)\n",
    "    "
   ]
  },
  {
   "cell_type": "code",
   "execution_count": null,
   "metadata": {},
   "outputs": [],
   "source": [
    "\n",
    "if __name__ == \"__main__\":\n",
    "    n = int(input())\n",
    "    arr = [[map(int,input().split())] for _ in range(n)]\n",
    "    \n",
    "    max = float(\"-inf\")\n",
    "    min = float(\"inf\")\n",
    "    \n",
    "    # i == 행\n",
    "    for i in range(5):\n",
    "    \n",
    "        \n",
    "        # 열\n",
    "        for j in range(5):\n",
    "            \n",
    "            if tmp[i] > max:\n",
    "                ex = i \n",
    "                ey = j\n",
    "                tmp = max\n",
    "            if tmp[i] < min:\n",
    "                tmp = min\n",
    "                sx= i \n",
    "                sy =j\n",
    "            board[i][j] = tmp[j]\n",
    "    \n",
    "    ch[sx][sy]=1\n",
    "    cnt=0"
   ]
  },
  {
   "cell_type": "code",
   "execution_count": null,
   "metadata": {},
   "outputs": [],
   "source": [
    "def Merge_sort(lt,rt):\n",
    "    if lt < rt:\n",
    "        # tip 후위순회\n",
    "        mid = (lt+rt)//2\n",
    "        Merge_sort(lt,mid)\n",
    "        Merge_sort(mid+1,rt)\n",
    "        #포인터\n",
    "        p1 = lt\n",
    "        p2 = mid+1\n",
    "        \n",
    "        # 합할 리스트 생성\n",
    "        tmp = []\n",
    "        # 각 분할한 리스트의 끝까지 간다.\n",
    "        while p1 <= mid and p2 <= rt:\n",
    "            if arr[p1] < arr[p2]:\n",
    "                tmp.append(arr[p1])\n",
    "                p1+=1\n",
    "            else:\n",
    "                tmp.append(arr[p2])\n",
    "                p2+=1\n",
    "        \n",
    "        \n",
    "        if p1<=mid:\n",
    "            tmp=tmp+arr[p1:mid+1]\n",
    "        if p2<=rt:\n",
    "            tmp=tmp+arr[p2:rt+1]\n",
    "    \n",
    "    # 리스트 병합\n",
    "        for i in range(len(tmp)):\n",
    "            arr[lt+i] = tmp[i]\n",
    "    \n",
    "        \n",
    "        \n",
    "        \n",
    "\n",
    "   "
   ]
  },
  {
   "cell_type": "code",
   "execution_count": null,
   "metadata": {},
   "outputs": [],
   "source": [
    "def Merge_sort(lt,rt):\n",
    "    if lt < rt:\n",
    "        mid = (lt+rt)//2\n",
    "        Merge_sort(lt,mid)\n",
    "        Merge_sort(mid+1,rt)\n",
    "        \n",
    "        ## 앞대가리 비교\n",
    "        p1 = lt\n",
    "        p2 = mid +1\n",
    "        \n",
    "        tmp = []\n",
    "        \n",
    "        while p1 \n",
    "        \n",
    "    \n",
    "if __name__ == \"__main__\":\n",
    "    arr = [23,11,45,36,15,67,33,21]\n",
    "    print(f\"Before sort : {arr}\")\n",
    "    Merge_sort(0,7)\n",
    "    print(f\"After sort :  {arr}\")"
   ]
  },
  {
   "cell_type": "code",
   "execution_count": 1,
   "metadata": {},
   "outputs": [
    {
     "ename": "IndentationError",
     "evalue": "expected an indented block (<ipython-input-1-f3a6e130041c>, line 5)",
     "output_type": "error",
     "traceback": [
      "\u001b[1;36m  File \u001b[1;32m\"<ipython-input-1-f3a6e130041c>\"\u001b[1;36m, line \u001b[1;32m5\u001b[0m\n\u001b[1;33m    for i in range(lt,rt):\u001b[0m\n\u001b[1;37m                          ^\u001b[0m\n\u001b[1;31mIndentationError\u001b[0m\u001b[1;31m:\u001b[0m expected an indented block\n"
     ]
    }
   ],
   "source": [
    "def Quick_sort(lt,rt):\n",
    "    if lt<rt:\n",
    "        pos = lt\n",
    "        pivot = arr[rt]\n",
    "        for i in range(lt,rt):\n",
    "            if arr[i] <= pivot:\n",
    "                arr[i],arr[pos] = arr[pos],arr[i]\n",
    "                pos +=1\n",
    "            arr[rt],arr[pos] = arr[pos],arr[rt]\n",
    "            "
   ]
  },
  {
   "cell_type": "code",
   "execution_count": null,
   "metadata": {},
   "outputs": [],
   "source": [
    "def Quick_sort(lt,rt):\n",
    "    if lt<rt:\n",
    "        pos = lt\n",
    "        pivot  = arr[rt]\n",
    "        for i in range(lt,rt):\n",
    "            if arr[i]<=pivot:\n",
    "                arr[i],arr[pos]=arr[pos],arr[i]\n",
    "                pos+=1\n",
    "        arr[rt],arr[pos]=arr[pos],arr[rt]\n",
    "        Qsort(lt,pos-1)\n",
    "        Qsort(pos+1,rt)\n",
    "        \n",
    "\n",
    "if __name__ == \"__main__\":\n",
    "    arr =[45,21,23,36]\n",
    "    print(arr)\n",
    "    Quick_sort(0,9)\n",
    "    print(arr)"
   ]
  },
  {
   "cell_type": "code",
   "execution_count": 8,
   "metadata": {},
   "outputs": [
    {
     "data": {
      "text/plain": [
       "(0, 0)"
      ]
     },
     "execution_count": 8,
     "metadata": {},
     "output_type": "execute_result"
    }
   ],
   "source": [
    "3*(14*14) + 12*(14) + 11\n",
    "lst = []\n",
    "divmod(0,6)"
   ]
  },
  {
   "cell_type": "code",
   "execution_count": null,
   "metadata": {},
   "outputs": [],
   "source": []
  }
 ],
 "metadata": {
  "interpreter": {
   "hash": "53348c0c110a21a62c08282fa7222d5f6a6e867967d9c653ff076b6d565fa51d"
  },
  "kernelspec": {
   "display_name": "Python 3.9.1 64-bit",
   "language": "python",
   "name": "python3"
  },
  "language_info": {
   "codemirror_mode": {
    "name": "ipython",
    "version": 3
   },
   "file_extension": ".py",
   "mimetype": "text/x-python",
   "name": "python",
   "nbconvert_exporter": "python",
   "pygments_lexer": "ipython3",
   "version": "3.9.1"
  },
  "orig_nbformat": 4
 },
 "nbformat": 4,
 "nbformat_minor": 2
}
