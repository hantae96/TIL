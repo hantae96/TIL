{
 "cells": [
  {
   "cell_type": "code",
   "execution_count": 5,
   "metadata": {},
   "outputs": [
    {
     "data": {
      "text/plain": [
       "<generator object <genexpr> at 0x00000267D67A9040>"
      ]
     },
     "execution_count": 5,
     "metadata": {},
     "output_type": "execute_result"
    }
   ],
   "source": [
    "a= list()\n",
    "\n",
    "A =(print(i) for i in range(4))\n",
    "\n",
    "A"
   ]
  },
  {
   "cell_type": "code",
   "execution_count": 19,
   "metadata": {},
   "outputs": [
    {
     "name": "stdout",
     "output_type": "stream",
     "text": [
      "[-1, -1, 2, '*', -1, 0, 1, '*']\n"
     ]
    }
   ],
   "source": [
    "# 배열을 받아 합으로 0을 만들 수 있는 3개의 엘리멘트를 출력하라.\n",
    "nums = [-1,0,1,2,-1,-4]\n",
    "nums.sort()\n",
    "\n",
    "def three_sum(nums):\n",
    "    tmp = 0\n",
    "    lst = []\n",
    "    for i in range(len(nums)):\n",
    "        if i>0 and nums[i] == nums[i-1]:\n",
    "            continue\n",
    "        for j in range(i+1,len(nums)):\n",
    "            for k in range(j+1,len(nums)):\n",
    "                if nums[i] + nums[j] +nums[k] == 0:\n",
    "                    lst.append(nums[i])\n",
    "                    lst.append(nums[j])\n",
    "                    lst.append(nums[k])\n",
    "                    lst.append(\"*\")\n",
    "    \n",
    "    return lst\n",
    "                    \n",
    "\n",
    "A=three_sum(nums)\n",
    "\n",
    "print(A)                   \n",
    "                    "
   ]
  },
  {
   "cell_type": "code",
   "execution_count": 20,
   "metadata": {},
   "outputs": [
    {
     "name": "stdout",
     "output_type": "stream",
     "text": [
      "1\n",
      "3\n",
      "5\n",
      "7\n",
      "9\n",
      "끝\n"
     ]
    }
   ],
   "source": [
    "for i in range(10):\n",
    "    if i % 2 == 0:\n",
    "        continue\n",
    "        print(i)\n",
    "    print(i)\n",
    "print(\"끝\")"
   ]
  },
  {
   "cell_type": "code",
   "execution_count": 5,
   "metadata": {},
   "outputs": [
    {
     "data": {
      "text/plain": [
       "[-1, -1, 2, -1, 0, 1]"
      ]
     },
     "execution_count": 5,
     "metadata": {},
     "output_type": "execute_result"
    }
   ],
   "source": [
    "nums = [-1,0,1,2,-1,-4]\n",
    "\n",
    "def threeSum(nums):\n",
    "    results = []\n",
    "    nums.sort()\n",
    "    \n",
    "    for i in range(len(nums)-2):\n",
    "        if i > 0 and nums[i] == nums[i-1]:\n",
    "            continue\n",
    "        for j in range(i+1,len(nums)-1):\n",
    "            if j > i+1 and nums[j] == nums[j-1]:\n",
    "                continue\n",
    "            for k in range(j+1,len(nums)):\n",
    "                if k > j+1 and nums[k] == nums[k-1]:\n",
    "                    continue\n",
    "                if nums[i] + nums[j] + nums[k] == 0:\n",
    "                    # 리스트에 복수 개 입력시 append보다 extend\n",
    "                    results.extend([nums[i], nums[j], nums[k]])\n",
    "                \n",
    "    return results\n",
    "\n",
    "threeSum(nums)"
   ]
  },
  {
   "cell_type": "code",
   "execution_count": null,
   "metadata": {},
   "outputs": [],
   "source": [
    "def threeSum(nums):\n",
    "    results = []\n",
    "    nums.sort()\n",
    "    \n",
    "    for i in range(len(nums)-2):\n",
    "        if i>0 and nums[i] == nums[i-1]:\n",
    "            continue\n",
    "        \n",
    "        left,right = i+1, len(nums)-1\n",
    "        \n",
    "        while left < right:\n",
    "            sum = nums[i] + nums[left] + nums[right]\n",
    "            if sum < 0:\n",
    "                left +=1\n",
    "            elif sum > 0:\n",
    "                right -=1\n",
    "            else:\n",
    "                # sum = 0인 경우 임으로 스킵처리\n",
    "                results.append(nums[i],nums[left],nums[right])\n",
    "                \n",
    "                # 진행 방향으로 중복 ??\n",
    "                while left < right and nums[left] == nums[left+1]:\n",
    "                    left += 1\n",
    "                \n",
    "                while left < right and nums[right] == nums[right-1]:\n",
    "                    right -= 1\n",
    "                \n",
    "                left +=1\n",
    "                right -= 1\n",
    "                \n",
    "                \n",
    "        return results\n",
    "                \n",
    "                "
   ]
  }
 ],
 "metadata": {
  "interpreter": {
   "hash": "53348c0c110a21a62c08282fa7222d5f6a6e867967d9c653ff076b6d565fa51d"
  },
  "kernelspec": {
   "display_name": "Python 3.9.1 64-bit",
   "language": "python",
   "name": "python3"
  },
  "language_info": {
   "codemirror_mode": {
    "name": "ipython",
    "version": 3
   },
   "file_extension": ".py",
   "mimetype": "text/x-python",
   "name": "python",
   "nbconvert_exporter": "python",
   "pygments_lexer": "ipython3",
   "version": "3.9.1"
  },
  "orig_nbformat": 4
 },
 "nbformat": 4,
 "nbformat_minor": 2
}
