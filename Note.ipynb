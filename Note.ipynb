{
 "cells": [
  {
   "cell_type": "code",
   "execution_count": 43,
   "metadata": {},
   "outputs": [
    {
     "name": "stdout",
     "output_type": "stream",
     "text": [
      "10\n"
     ]
    }
   ],
   "source": [
    "arr = [[5,3,7,2,3],\n",
    "        [3,7,1,6,1],\n",
    "        [7,2,5,3,4],\n",
    "        [4,3,6,4,1],\n",
    "        [8,7,3,5,2]]\n",
    "\n",
    "for i in arr:\n",
    "        i.insert(0,0)\n",
    "        i.append(0)\n",
    "\n",
    "arr.append([0]*7)\n",
    "arr.insert(0,[0]*7)\n",
    "\n",
    "#for x in arr:\n",
    "#        for y in x:\n",
    "#              print(y,end=' ')\n",
    "#        print()\n",
    "\n",
    "dx = [0,0,-1,1]\n",
    "dy = [1,-1,0,0]\n",
    "\n",
    "\n",
    "## all() 함수\n",
    "## 반복 가능한 객체가 전부 참 값이면 참을 리턴\n",
    "## any() 함수\n",
    "## 반복 가능한 객체가 하나\n",
    "\n",
    "#for j in range(1,n+1):\n",
    "#   for k in range(1,n+1):\n",
    "#        if all(a[i][j] > [a[i + dx[y]][j + dy[y]] for k in range(4)]):\n",
    "#            cnt +=1\n",
    "\n",
    "\n",
    "\n",
    "\n",
    "cnt = 0\n",
    "for x in range(1,len(arr)-1):\n",
    "    for y in range(1,len(arr)-1):\n",
    "        # 리스트 컴프리헨션은 원래 [] 로 마지막에 선언하는데\n",
    "        # all 이 반복가능한 객체로 반환하여 판단하기 때문에 []를 할 필요가 없다.!\n",
    "        if all(arr[x][y] > arr[x+dx[z]][y+dy[z]] for z in range(4)):\n",
    "            cnt+=1\n",
    "\n",
    "\n",
    "\n",
    "print(cnt)"
   ]
  },
  {
   "cell_type": "code",
   "execution_count": null,
   "metadata": {},
   "outputs": [],
   "source": [
    "arr = "
   ]
  }
 ],
 "metadata": {
  "language_info": {
   "name": "python"
  },
  "orig_nbformat": 4
 },
 "nbformat": 4,
 "nbformat_minor": 2
}
